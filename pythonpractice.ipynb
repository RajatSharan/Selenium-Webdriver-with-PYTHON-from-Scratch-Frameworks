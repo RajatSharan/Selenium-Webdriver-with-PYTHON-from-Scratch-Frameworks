{
  "nbformat": 4,
  "nbformat_minor": 0,
  "metadata": {
    "colab": {
      "provenance": [],
      "authorship_tag": "ABX9TyNvVyx37yoEoT8f8/azSqG+",
      "include_colab_link": true
    },
    "kernelspec": {
      "name": "python3",
      "display_name": "Python 3"
    },
    "language_info": {
      "name": "python"
    }
  },
  "cells": [
    {
      "cell_type": "markdown",
      "metadata": {
        "id": "view-in-github",
        "colab_type": "text"
      },
      "source": [
        "<a href=\"https://colab.research.google.com/github/RajatSharan/Selenium-Webdriver-with-PYTHON-from-Scratch-Frameworks/blob/main/pythonpractice.ipynb\" target=\"_parent\"><img src=\"https://colab.research.google.com/assets/colab-badge.svg\" alt=\"Open In Colab\"/></a>"
      ]
    },
    {
      "cell_type": "code",
      "execution_count": null,
      "metadata": {
        "colab": {
          "base_uri": "https://localhost:8080/"
        },
        "id": "gEOVDdxEPRVT",
        "outputId": "e173829c-dc07-4c8c-8a7e-011f6a976e2e"
      },
      "outputs": [
        {
          "output_type": "execute_result",
          "data": {
            "text/plain": [
              "True"
            ]
          },
          "metadata": {},
          "execution_count": 1
        }
      ],
      "source": [
        "# in and not in operator\n",
        "\n",
        "3 in [1,2,3,4,5,8]\n"
      ]
    },
    {
      "cell_type": "code",
      "source": [],
      "metadata": {
        "id": "99n1S35Em3mp"
      },
      "execution_count": null,
      "outputs": []
    },
    {
      "cell_type": "code",
      "source": [
        "3 in [1,2,4,5,8]"
      ],
      "metadata": {
        "colab": {
          "base_uri": "https://localhost:8080/"
        },
        "id": "TpxeRKiiQH_R",
        "outputId": "c77d5139-36a2-4fb6-d0f7-5e958bb17b44"
      },
      "execution_count": null,
      "outputs": [
        {
          "output_type": "execute_result",
          "data": {
            "text/plain": [
              "False"
            ]
          },
          "metadata": {},
          "execution_count": 2
        }
      ]
    },
    {
      "cell_type": "code",
      "source": [
        "3 not in [1,2,4,5,8]\n"
      ],
      "metadata": {
        "colab": {
          "base_uri": "https://localhost:8080/"
        },
        "id": "cPy_9FDgQTvw",
        "outputId": "7a2ee762-4106-470d-e14e-b408f273d26f"
      },
      "execution_count": null,
      "outputs": [
        {
          "output_type": "execute_result",
          "data": {
            "text/plain": [
              "True"
            ]
          },
          "metadata": {},
          "execution_count": 3
        }
      ]
    },
    {
      "cell_type": "code",
      "source": [
        "\"R\" in \"Rajat\""
      ],
      "metadata": {
        "id": "ryG5mRYWQX7X",
        "outputId": "b30d5a30-e6da-493c-9eec-7d1d88430b1b",
        "colab": {
          "base_uri": "https://localhost:8080/"
        }
      },
      "execution_count": null,
      "outputs": [
        {
          "output_type": "execute_result",
          "data": {
            "text/plain": [
              "True"
            ]
          },
          "metadata": {},
          "execution_count": 4
        }
      ]
    },
    {
      "cell_type": "code",
      "source": [
        "#control Statment\n",
        "\n",
        "age=int(input(\"Please enter the age\"))\n",
        "if age>=18:\n",
        "  print(\"Age is elgiable for vote\")\n",
        "else:\n",
        "  print(\"Age is not elgible for vote\")"
      ],
      "metadata": {
        "colab": {
          "base_uri": "https://localhost:8080/"
        },
        "id": "kjc6WDdl9hfZ",
        "outputId": "76dc41a6-7ed6-40ac-d6aa-947fbd0e7c0e"
      },
      "execution_count": null,
      "outputs": [
        {
          "output_type": "stream",
          "name": "stdout",
          "text": [
            "Please enter the age23\n",
            "Age is elgiable for vote\n"
          ]
        }
      ]
    },
    {
      "cell_type": "code",
      "source": [
        "a=30\n",
        "b=20\n",
        "c=40\n",
        "\n",
        "if a>b:\n",
        "  if a>c:\n",
        "    print(\"a is greater than b\")\n",
        "  else:\n",
        "    print(\"b is biggest number\")\n",
        "elif b>a:\n",
        "  print(\"b is biggest number\")\n",
        "else:\n",
        "  print(\"c is biggest number\")"
      ],
      "metadata": {
        "colab": {
          "base_uri": "https://localhost:8080/"
        },
        "id": "Z7iG5nlnAJ8a",
        "outputId": "30b61b22-c86e-4718-9b9b-8bf6cc71f395"
      },
      "execution_count": null,
      "outputs": [
        {
          "output_type": "stream",
          "name": "stdout",
          "text": [
            "b is biggest number\n"
          ]
        }
      ]
    },
    {
      "cell_type": "code",
      "source": [
        "for i in [1,2,3,4,5,6,7,8,10]:\n",
        "  print(i)"
      ],
      "metadata": {
        "colab": {
          "base_uri": "https://localhost:8080/"
        },
        "id": "pKUXAqu1JUhq",
        "outputId": "4f7fe6a7-40fc-4449-f76d-8d3b212ec5c6"
      },
      "execution_count": null,
      "outputs": [
        {
          "output_type": "stream",
          "name": "stdout",
          "text": [
            "1\n",
            "2\n",
            "3\n",
            "4\n",
            "5\n",
            "6\n",
            "7\n",
            "8\n",
            "10\n"
          ]
        }
      ]
    },
    {
      "cell_type": "code",
      "source": [
        "for i in range(10):\n",
        "  print(i)"
      ],
      "metadata": {
        "colab": {
          "base_uri": "https://localhost:8080/"
        },
        "id": "rLLmx-TlKCDl",
        "outputId": "b910e89a-2fdd-4345-eb40-5556cf6690e7"
      },
      "execution_count": null,
      "outputs": [
        {
          "output_type": "stream",
          "name": "stdout",
          "text": [
            "0\n",
            "1\n",
            "2\n",
            "3\n",
            "4\n",
            "5\n",
            "6\n",
            "7\n",
            "8\n",
            "9\n"
          ]
        }
      ]
    },
    {
      "cell_type": "code",
      "source": [
        "for i in range(1,11):\n",
        "  print(i)"
      ],
      "metadata": {
        "colab": {
          "base_uri": "https://localhost:8080/"
        },
        "id": "Z2txJMTSKpFF",
        "outputId": "25ec2f98-eb41-4339-b535-3ac36f02f2bd"
      },
      "execution_count": null,
      "outputs": [
        {
          "output_type": "stream",
          "name": "stdout",
          "text": [
            "1\n",
            "2\n",
            "3\n",
            "4\n",
            "5\n",
            "6\n",
            "7\n",
            "8\n",
            "9\n",
            "10\n"
          ]
        }
      ]
    },
    {
      "cell_type": "code",
      "source": [],
      "metadata": {
        "id": "2YbO7pRAK9jl"
      },
      "execution_count": null,
      "outputs": []
    },
    {
      "cell_type": "code",
      "source": [
        "for i in range(1,11,2):\n",
        "  print(i)"
      ],
      "metadata": {
        "colab": {
          "base_uri": "https://localhost:8080/"
        },
        "id": "vJIumbx-LAPc",
        "outputId": "1d7c52b8-c44d-4f6b-8c25-3f6758fc24eb"
      },
      "execution_count": null,
      "outputs": [
        {
          "output_type": "stream",
          "name": "stdout",
          "text": [
            "1\n",
            "3\n",
            "5\n",
            "7\n",
            "9\n"
          ]
        }
      ]
    },
    {
      "cell_type": "code",
      "source": [
        "for i in range(20,0,-1):\n",
        "  print(i)\n"
      ],
      "metadata": {
        "colab": {
          "base_uri": "https://localhost:8080/"
        },
        "id": "ajPIvsUKNKzE",
        "outputId": "4548298f-3315-4fd0-df3c-b556e3e644bd"
      },
      "execution_count": null,
      "outputs": [
        {
          "output_type": "stream",
          "name": "stdout",
          "text": [
            "20\n",
            "19\n",
            "18\n",
            "17\n",
            "16\n",
            "15\n",
            "14\n",
            "13\n",
            "12\n",
            "11\n",
            "10\n",
            "9\n",
            "8\n",
            "7\n",
            "6\n",
            "5\n",
            "4\n",
            "3\n",
            "2\n",
            "1\n"
          ]
        }
      ]
    },
    {
      "cell_type": "code",
      "source": [
        "for i in range(20,0,1):\n",
        "  print(i)"
      ],
      "metadata": {
        "id": "qByjgcXmNu1B"
      },
      "execution_count": null,
      "outputs": []
    },
    {
      "cell_type": "code",
      "source": [
        "for i in range(20,5,-2):\n",
        "  print(i)"
      ],
      "metadata": {
        "colab": {
          "base_uri": "https://localhost:8080/"
        },
        "id": "KFVUlIiDN_HF",
        "outputId": "e7059625-03b0-4884-b3c3-3acdf66e37ea"
      },
      "execution_count": null,
      "outputs": [
        {
          "output_type": "stream",
          "name": "stdout",
          "text": [
            "20\n",
            "18\n",
            "16\n",
            "14\n",
            "12\n",
            "10\n",
            "8\n",
            "6\n"
          ]
        }
      ]
    },
    {
      "cell_type": "code",
      "source": [
        "for i in range(20,0,-2):\n",
        "  print(i,end=\",\")"
      ],
      "metadata": {
        "colab": {
          "base_uri": "https://localhost:8080/"
        },
        "id": "9xeROSkuOdbI",
        "outputId": "53905b79-c629-4a00-c41c-5ff2e2a5313b"
      },
      "execution_count": null,
      "outputs": [
        {
          "output_type": "stream",
          "name": "stdout",
          "text": [
            "20,18,16,14,12,10,8,6,4,2,"
          ]
        }
      ]
    },
    {
      "cell_type": "code",
      "source": [
        "for i in range(20,0,-2):\n",
        "  print(i,end=\" \")"
      ],
      "metadata": {
        "colab": {
          "base_uri": "https://localhost:8080/"
        },
        "id": "U3EPNtiDOuAR",
        "outputId": "e1ea8125-f25e-44af-d51d-d60737053c30"
      },
      "execution_count": null,
      "outputs": [
        {
          "output_type": "stream",
          "name": "stdout",
          "text": [
            "20 18 16 14 12 10 8 6 4 2 "
          ]
        }
      ]
    },
    {
      "cell_type": "code",
      "source": [
        "for i in range(20,0,-2):\n",
        "  print(i,end=\",\")"
      ],
      "metadata": {
        "colab": {
          "base_uri": "https://localhost:8080/"
        },
        "id": "HqJlgRz7OuLd",
        "outputId": "faa1b99a-e5b6-4223-9c88-65944b9239ae"
      },
      "execution_count": null,
      "outputs": [
        {
          "output_type": "stream",
          "name": "stdout",
          "text": [
            "20,18,16,14,12,10,8,6,4,2,"
          ]
        }
      ]
    },
    {
      "cell_type": "code",
      "source": [
        "for i in range(20,0,-2):\n",
        "  print(i,end=\",\")"
      ],
      "metadata": {
        "colab": {
          "base_uri": "https://localhost:8080/"
        },
        "id": "Z84w7rAyPXXF",
        "outputId": "76c61e0b-fb46-4255-d0fb-e2140171ebc9"
      },
      "execution_count": null,
      "outputs": [
        {
          "output_type": "stream",
          "name": "stdout",
          "text": [
            "20,18,16,14,12,10,8,6,4,2,"
          ]
        }
      ]
    },
    {
      "cell_type": "code",
      "source": [
        "i=10\n",
        "if i>5:\n",
        "  print(i)"
      ],
      "metadata": {
        "colab": {
          "base_uri": "https://localhost:8080/"
        },
        "id": "2j0RZ34yPxuO",
        "outputId": "86ecde52-e9e2-40e2-f13b-a27078518c55"
      },
      "execution_count": null,
      "outputs": [
        {
          "output_type": "stream",
          "name": "stdout",
          "text": [
            "10\n"
          ]
        }
      ]
    },
    {
      "cell_type": "code",
      "source": [
        "for i in range(20,1,-2):\n",
        "  print(i,end=\",\")"
      ],
      "metadata": {
        "colab": {
          "base_uri": "https://localhost:8080/"
        },
        "id": "BznsbH41QWOx",
        "outputId": "45304df6-96d3-4a08-f42e-c9cb87eeaf63"
      },
      "execution_count": null,
      "outputs": [
        {
          "output_type": "stream",
          "name": "stdout",
          "text": [
            "20,18,16,14,12,10,8,6,4,2,"
          ]
        }
      ]
    },
    {
      "cell_type": "code",
      "source": [
        "for i in range(10):\n",
        "  if i==5:\n",
        "    continue\n",
        "  print(i)"
      ],
      "metadata": {
        "colab": {
          "base_uri": "https://localhost:8080/"
        },
        "id": "GCACKD4YRln5",
        "outputId": "90d9fe5f-4962-414f-f3f2-6df18882de7e"
      },
      "execution_count": null,
      "outputs": [
        {
          "output_type": "stream",
          "name": "stdout",
          "text": [
            "0\n",
            "1\n",
            "2\n",
            "3\n",
            "4\n",
            "6\n",
            "7\n",
            "8\n",
            "9\n"
          ]
        }
      ]
    },
    {
      "cell_type": "code",
      "source": [
        "for i in range(10):\n",
        "  if i==5 or i==8:\n",
        "   continue\n",
        "  print(i)"
      ],
      "metadata": {
        "colab": {
          "base_uri": "https://localhost:8080/"
        },
        "id": "oK1yJeqgS-BW",
        "outputId": "92a37287-8025-429c-ce5b-c1ce018b4398"
      },
      "execution_count": null,
      "outputs": [
        {
          "output_type": "stream",
          "name": "stdout",
          "text": [
            "0\n",
            "1\n",
            "2\n",
            "3\n",
            "4\n",
            "6\n",
            "7\n",
            "9\n"
          ]
        }
      ]
    },
    {
      "cell_type": "code",
      "source": [
        "# List in Python\n",
        "list=[10,20,30,40]\n",
        "print(type(list))"
      ],
      "metadata": {
        "colab": {
          "base_uri": "https://localhost:8080/"
        },
        "id": "xwrw-zvrry3Y",
        "outputId": "7ae0725e-46e1-4d24-ed5a-4f260fe09c1d"
      },
      "execution_count": null,
      "outputs": [
        {
          "output_type": "stream",
          "name": "stdout",
          "text": [
            "<class 'list'>\n"
          ]
        }
      ]
    },
    {
      "cell_type": "code",
      "source": [
        "lst=[10,20,30,40]\n",
        "print(lst[-1])"
      ],
      "metadata": {
        "colab": {
          "base_uri": "https://localhost:8080/"
        },
        "id": "j165M4mltZHY",
        "outputId": "3ceeff6e-30b1-490d-d79b-c9cddf1333fe"
      },
      "execution_count": null,
      "outputs": [
        {
          "output_type": "stream",
          "name": "stdout",
          "text": [
            "40\n"
          ]
        }
      ]
    },
    {
      "cell_type": "code",
      "source": [
        "ar=[\"rajat\",[10,20,30,40,50]]\n",
        "print(ar[1])\n",
        "print(ar[1][3])\n",
        "print(ar[1][-1])"
      ],
      "metadata": {
        "colab": {
          "base_uri": "https://localhost:8080/"
        },
        "id": "xS3j8i4PuSyT",
        "outputId": "4a3fc547-37cf-40c4-aca2-c242c4c1cf7a"
      },
      "execution_count": null,
      "outputs": [
        {
          "output_type": "stream",
          "name": "stdout",
          "text": [
            "[10, 20, 30, 40, 50]\n",
            "40\n",
            "50\n"
          ]
        }
      ]
    },
    {
      "cell_type": "code",
      "source": [
        "str=input(\"Enter the value\")\n",
        "print(str)"
      ],
      "metadata": {
        "colab": {
          "base_uri": "https://localhost:8080/"
        },
        "id": "mThpmE1EwzJb",
        "outputId": "ff052437-a817-4cfa-a706-7d395a44f5b8"
      },
      "execution_count": null,
      "outputs": [
        {
          "output_type": "stream",
          "name": "stdout",
          "text": [
            "Enter the value34\n",
            "34\n"
          ]
        }
      ]
    },
    {
      "cell_type": "code",
      "source": [
        "str=eval(input(\"Enter the value\"))\n",
        "print(str)"
      ],
      "metadata": {
        "colab": {
          "base_uri": "https://localhost:8080/"
        },
        "id": "VBtQxpU4xOv2",
        "outputId": "f4e1538a-2cbd-4399-8643-8decf7d9b5c9"
      },
      "execution_count": null,
      "outputs": [
        {
          "output_type": "stream",
          "name": "stdout",
          "text": [
            "Enter the value10,20,30,40\n",
            "(10, 20, 30, 40)\n"
          ]
        }
      ]
    },
    {
      "cell_type": "code",
      "source": [
        "list=[*range(0,5,2)] #unpacked list\n",
        "print(list)"
      ],
      "metadata": {
        "colab": {
          "base_uri": "https://localhost:8080/"
        },
        "id": "kxuk4k65w49l",
        "outputId": "82aa13a6-2aae-4c1e-b8b1-fd40002bceb6"
      },
      "execution_count": null,
      "outputs": [
        {
          "output_type": "stream",
          "name": "stdout",
          "text": [
            "[0, 2, 4]\n"
          ]
        }
      ]
    },
    {
      "cell_type": "code",
      "source": [
        "list=[range(0,5,2)] #packed list\n",
        "print(list)"
      ],
      "metadata": {
        "colab": {
          "base_uri": "https://localhost:8080/"
        },
        "id": "ZFRTXDouzH9s",
        "outputId": "0a8125b9-93c7-4a11-b238-39996826a1d6"
      },
      "execution_count": null,
      "outputs": [
        {
          "output_type": "stream",
          "name": "stdout",
          "text": [
            "[range(0, 5, 2)]\n"
          ]
        }
      ]
    },
    {
      "cell_type": "code",
      "source": [
        "sen=\"My name, is Rajat Sharan\"\n",
        "lst=sen.split()\n",
        "print(lst)"
      ],
      "metadata": {
        "colab": {
          "base_uri": "https://localhost:8080/"
        },
        "id": "LIrexfa40elv",
        "outputId": "12f12591-f97c-4983-9697-2f7d263b261e"
      },
      "execution_count": null,
      "outputs": [
        {
          "output_type": "stream",
          "name": "stdout",
          "text": [
            "['My', 'name,', 'is', 'Rajat', 'Sharan']\n"
          ]
        }
      ]
    },
    {
      "cell_type": "code",
      "source": [
        "sen=\"My,name,is,Rajat,Sharan\"\n",
        "lst=sen.split(',')\n",
        "print(lst)"
      ],
      "metadata": {
        "colab": {
          "base_uri": "https://localhost:8080/"
        },
        "id": "fIsMcOeN4QO8",
        "outputId": "52d585a6-ce12-40e7-e9b7-28c5caf6ddc7"
      },
      "execution_count": null,
      "outputs": [
        {
          "output_type": "stream",
          "name": "stdout",
          "text": [
            "['My', 'name', 'is', 'Rajat', 'Sharan']\n"
          ]
        }
      ]
    },
    {
      "cell_type": "code",
      "source": [
        "#Slicing in Python\n",
        "sen=['a','b','c','d','e','j']\n",
        "print(sen[2:4])"
      ],
      "metadata": {
        "colab": {
          "base_uri": "https://localhost:8080/"
        },
        "id": "q4iu4vmU4uoD",
        "outputId": "adc37114-ee0b-4207-9851-819b0ed59d3a"
      },
      "execution_count": null,
      "outputs": [
        {
          "output_type": "stream",
          "name": "stdout",
          "text": [
            "['c', 'd']\n"
          ]
        }
      ]
    },
    {
      "cell_type": "code",
      "source": [
        "#Slicing in Python\n",
        "sen=['a','b','c','d','e','j']\n",
        "print(sen[:5])"
      ],
      "metadata": {
        "colab": {
          "base_uri": "https://localhost:8080/"
        },
        "id": "fdu5uSge6JRo",
        "outputId": "faf60f72-3229-4734-ddfa-5e8ac2606132"
      },
      "execution_count": null,
      "outputs": [
        {
          "output_type": "stream",
          "name": "stdout",
          "text": [
            "['a', 'b', 'c', 'd', 'e']\n"
          ]
        }
      ]
    },
    {
      "cell_type": "code",
      "source": [
        "sen=[1,2,3,4,5,6,7,8,8,9]\n",
        "print(sen[1::3])"
      ],
      "metadata": {
        "colab": {
          "base_uri": "https://localhost:8080/"
        },
        "id": "TkM7jlYs6in3",
        "outputId": "533357e7-0b63-444c-bb97-05165b14e8c3"
      },
      "execution_count": null,
      "outputs": [
        {
          "output_type": "stream",
          "name": "stdout",
          "text": [
            "[2, 5, 8]\n"
          ]
        }
      ]
    },
    {
      "cell_type": "code",
      "source": [
        "#list Mutability\n",
        "list=[1,2,3,4,5,6,7,8,10,11,12]\n",
        "print(id(list))\n",
        "list[4]=50\n",
        "print(id(list))\n",
        "print(list)"
      ],
      "metadata": {
        "colab": {
          "base_uri": "https://localhost:8080/"
        },
        "id": "ZrUVUmli9VyC",
        "outputId": "cc923430-bf42-4321-dc6f-aa65d5e75b2d"
      },
      "execution_count": null,
      "outputs": [
        {
          "output_type": "stream",
          "name": "stdout",
          "text": [
            "133705420742528\n",
            "133705420742528\n",
            "[1, 2, 3, 4, 50, 6, 7, 8, 10, 11, 12]\n"
          ]
        }
      ]
    },
    {
      "cell_type": "code",
      "source": [
        "list=[10,20,30,4,7,5,7,8]\n",
        "print(len(list))\n",
        "i=0\n",
        "while(i<len(list)):\n",
        "  print(list[i])\n",
        "  i=i+1\n"
      ],
      "metadata": {
        "colab": {
          "base_uri": "https://localhost:8080/"
        },
        "id": "5AYQ23pH_2t6",
        "outputId": "9480eacf-b7c5-498f-a5ed-b6647046ab65"
      },
      "execution_count": null,
      "outputs": [
        {
          "output_type": "stream",
          "name": "stdout",
          "text": [
            "8\n",
            "10\n",
            "20\n",
            "30\n",
            "4\n",
            "7\n",
            "5\n",
            "7\n",
            "8\n"
          ]
        }
      ]
    },
    {
      "cell_type": "code",
      "source": [
        "list=[10,20,30,4,7,5,7,8]\n",
        "for e in list:\n",
        "  print(e)"
      ],
      "metadata": {
        "colab": {
          "base_uri": "https://localhost:8080/"
        },
        "id": "tO2UNLWoCEjU",
        "outputId": "6002f8bb-f4ed-4fcf-fac3-8a2ffb0bc881"
      },
      "execution_count": null,
      "outputs": [
        {
          "output_type": "stream",
          "name": "stdout",
          "text": [
            "10\n",
            "20\n",
            "30\n",
            "4\n",
            "7\n",
            "5\n",
            "7\n",
            "8\n"
          ]
        }
      ]
    },
    {
      "cell_type": "code",
      "source": [
        "list=[10,20,30,4,7,5,7,8]\n",
        "for e in list:\n",
        "  print(e,end=',')"
      ],
      "metadata": {
        "colab": {
          "base_uri": "https://localhost:8080/"
        },
        "id": "Enzpw71MDsSk",
        "outputId": "d46894a9-0435-457f-e5eb-ae12960ad5fa"
      },
      "execution_count": null,
      "outputs": [
        {
          "output_type": "stream",
          "name": "stdout",
          "text": [
            "10,20,30,4,7,5,7,8,"
          ]
        }
      ]
    },
    {
      "cell_type": "code",
      "source": [
        "#Add list element\n",
        "list=[10,20,30,40,50,60]\n",
        "total=0\n",
        "for e in list:\n",
        "  total=total+e\n",
        "print(f'total of list {total}')"
      ],
      "metadata": {
        "colab": {
          "base_uri": "https://localhost:8080/"
        },
        "id": "g3rs73RFGLIt",
        "outputId": "7d756832-95c5-4b79-881f-7adc6450a559"
      },
      "execution_count": null,
      "outputs": [
        {
          "output_type": "stream",
          "name": "stdout",
          "text": [
            "total of list 210\n"
          ]
        }
      ]
    },
    {
      "cell_type": "code",
      "source": [
        "#Add list element\n",
        "list=[10,20,30,40,50,60]\n",
        "total=0\n",
        "for e in list:\n",
        "  total=total+e\n",
        "  print(f'total is {total}')"
      ],
      "metadata": {
        "colab": {
          "base_uri": "https://localhost:8080/"
        },
        "id": "GLMiT-McHKGg",
        "outputId": "dbaa53bb-8e17-4cc3-8ea5-ec19692326af"
      },
      "execution_count": null,
      "outputs": [
        {
          "output_type": "stream",
          "name": "stdout",
          "text": [
            "total is 10\n",
            "total is 30\n",
            "total is 60\n",
            "total is 100\n",
            "total is 150\n",
            "total is 210\n"
          ]
        }
      ]
    },
    {
      "cell_type": "code",
      "source": [
        "#Find the even number from value\n",
        "lit=[10,20,30,40,50,60,70]\n",
        "print(lit*3) # repetition of list"
      ],
      "metadata": {
        "colab": {
          "base_uri": "https://localhost:8080/"
        },
        "id": "5_Pwh7ftHPmL",
        "outputId": "36935c24-5ac7-412a-e01c-6056d4f9b0b7"
      },
      "execution_count": null,
      "outputs": [
        {
          "output_type": "stream",
          "name": "stdout",
          "text": [
            "[10, 20, 30, 40, 50, 60, 70, 10, 20, 30, 40, 50, 60, 70, 10, 20, 30, 40, 50, 60, 70]\n"
          ]
        }
      ]
    },
    {
      "cell_type": "code",
      "source": [
        "lit=[\"RAJAT\"]\n",
        "print(lit*3)"
      ],
      "metadata": {
        "colab": {
          "base_uri": "https://localhost:8080/"
        },
        "id": "hPVJej_6Izjm",
        "outputId": "45fec7ee-247c-4fa7-90a9-058714729508"
      },
      "execution_count": null,
      "outputs": [
        {
          "output_type": "stream",
          "name": "stdout",
          "text": [
            "['RAJAT', 'RAJAT', 'RAJAT']\n"
          ]
        }
      ]
    },
    {
      "cell_type": "code",
      "source": [
        "sen=\"Welcome to JAPAN\"\n",
        "newSen=sen.split()\n",
        "print(newSen[0:1])\n"
      ],
      "metadata": {
        "colab": {
          "base_uri": "https://localhost:8080/"
        },
        "id": "fBgbaRTULXf4",
        "outputId": "c4e1d7c8-7692-4395-a217-57ae6e5a91bf"
      },
      "execution_count": null,
      "outputs": [
        {
          "output_type": "stream",
          "name": "stdout",
          "text": [
            "['Welcome']\n"
          ]
        }
      ]
    },
    {
      "cell_type": "code",
      "source": [
        "#Even and Odd\n",
        "list=10,20,30,40,55,78,76\n",
        "even_count,Odd_count=0,0\n",
        "for num in list:\n",
        "    if num%2 ==0:\n",
        "      print(f\"Number is even :{num}\")\n",
        "    else:\n",
        "      print(f\"Number is Odd  :{num}\")\n",
        "\n",
        "\n"
      ],
      "metadata": {
        "colab": {
          "base_uri": "https://localhost:8080/"
        },
        "id": "KBIvJNlFW5l1",
        "outputId": "22549b93-9d42-442b-a9a4-ffa17a0fac89"
      },
      "execution_count": null,
      "outputs": [
        {
          "output_type": "stream",
          "name": "stdout",
          "text": [
            "Number is even :10\n",
            "Number is even :20\n",
            "Number is even :30\n",
            "Number is even :40\n",
            "Number is Odd  :55\n",
            "Number is even :78\n",
            "Number is even :76\n"
          ]
        }
      ]
    },
    {
      "cell_type": "code",
      "source": [
        "alist=[5,10,15,25]\n",
        "print(alist[::-2])"
      ],
      "metadata": {
        "colab": {
          "base_uri": "https://localhost:8080/"
        },
        "id": "4lpajQM3e5Hb",
        "outputId": "4dcd9d73-3e1f-4edb-a853-2595a47f31aa"
      },
      "execution_count": null,
      "outputs": [
        {
          "output_type": "stream",
          "name": "stdout",
          "text": [
            "[25, 10]\n"
          ]
        }
      ]
    },
    {
      "cell_type": "code",
      "source": [
        "list1=[8,0,9,5]\n",
        "print(list1[::-1])"
      ],
      "metadata": {
        "colab": {
          "base_uri": "https://localhost:8080/"
        },
        "id": "MXx9V0xOfVKd",
        "outputId": "c7cccd9c-3536-4fe5-d03e-06730fe1c622"
      },
      "execution_count": null,
      "outputs": [
        {
          "output_type": "stream",
          "name": "stdout",
          "text": [
            "[5, 9, 0, 8]\n"
          ]
        }
      ]
    },
    {
      "cell_type": "code",
      "source": [
        "list=[10,20,30,40]\n",
        "list[3]=60\n",
        "print(list)"
      ],
      "metadata": {
        "colab": {
          "base_uri": "https://localhost:8080/"
        },
        "id": "pDdfMV9yjkoI",
        "outputId": "23dcc279-72ca-4af0-9815-cb76dccc018f"
      },
      "execution_count": null,
      "outputs": [
        {
          "output_type": "stream",
          "name": "stdout",
          "text": [
            "[10, 20, 30, 60]\n"
          ]
        }
      ]
    },
    {
      "cell_type": "code",
      "source": [
        "#Insert the value\n",
        "list=[10,20,30]\n",
        "list.insert(1,40)\n",
        "print(list)"
      ],
      "metadata": {
        "colab": {
          "base_uri": "https://localhost:8080/"
        },
        "id": "3Z2zcBAjkFUP",
        "outputId": "546ce6b9-660a-492a-a53f-0cb2d81f7e3b"
      },
      "execution_count": null,
      "outputs": [
        {
          "output_type": "stream",
          "name": "stdout",
          "text": [
            "[10, 40, 20, 30]\n"
          ]
        }
      ]
    },
    {
      "cell_type": "code",
      "source": [
        "#Insert the value at the beginning\n",
        "ls=[10,20,30,40]\n",
        "ls.insert(-1,90)\n",
        "print(ls)"
      ],
      "metadata": {
        "colab": {
          "base_uri": "https://localhost:8080/"
        },
        "id": "2ORYiW_qlB_9",
        "outputId": "e281d0bd-276c-4c12-896e-e5b7c1243f4e"
      },
      "execution_count": null,
      "outputs": [
        {
          "output_type": "stream",
          "name": "stdout",
          "text": [
            "[10, 20, 30, 90, 40]\n"
          ]
        }
      ]
    },
    {
      "cell_type": "code",
      "source": [
        "ls=[10,20,30,40]\n",
        "ls[3:3]=[40,30]\n",
        "print(ls)"
      ],
      "metadata": {
        "colab": {
          "base_uri": "https://localhost:8080/"
        },
        "id": "SQ6yyxrbmLM8",
        "outputId": "ca3328bf-ef59-41b6-f5b9-f46d7c490ee7"
      },
      "execution_count": null,
      "outputs": [
        {
          "output_type": "stream",
          "name": "stdout",
          "text": [
            "[10, 20, 30, 40, 30, 40]\n"
          ]
        }
      ]
    },
    {
      "cell_type": "code",
      "source": [
        "#Delete the number from list\n",
        "ls=[10,20,30,40]\n",
        "del ls[2]\n",
        "print(ls)\n",
        "\n"
      ],
      "metadata": {
        "colab": {
          "base_uri": "https://localhost:8080/"
        },
        "id": "QU3u01MCm3En",
        "outputId": "46fdf76e-f94d-49ee-80ba-0819eeaa965f"
      },
      "execution_count": null,
      "outputs": [
        {
          "output_type": "stream",
          "name": "stdout",
          "text": [
            "[10, 20, 40]\n"
          ]
        }
      ]
    },
    {
      "cell_type": "code",
      "source": [
        "ls=['a','b','c','d','e']\n",
        "del ls[1:4]\n",
        "print(ls)"
      ],
      "metadata": {
        "colab": {
          "base_uri": "https://localhost:8080/"
        },
        "id": "Sm5h4iROnwf8",
        "outputId": "2edc8785-3f1d-45dc-d458-1c986449d100"
      },
      "execution_count": null,
      "outputs": [
        {
          "output_type": "stream",
          "name": "stdout",
          "text": [
            "['a', 'e']\n"
          ]
        }
      ]
    },
    {
      "cell_type": "code",
      "source": [
        "ls=['a','b','c','d','e']\n",
        "ls.remove('a')\n",
        "print(ls)"
      ],
      "metadata": {
        "colab": {
          "base_uri": "https://localhost:8080/"
        },
        "id": "UwFF110spHsN",
        "outputId": "5d587e48-c5f8-4f7e-9b99-7d9f61cb7274"
      },
      "execution_count": null,
      "outputs": [
        {
          "output_type": "stream",
          "name": "stdout",
          "text": [
            "['b', 'c', 'd', 'e']\n"
          ]
        }
      ]
    },
    {
      "cell_type": "code",
      "source": [
        "ls=['a','b','c','d','e']\n",
        "ls.pop()\n",
        "print(ls)"
      ],
      "metadata": {
        "colab": {
          "base_uri": "https://localhost:8080/"
        },
        "id": "WBQw8gY9p9bb",
        "outputId": "4897023f-c6d3-4a17-d080-107d08d47349"
      },
      "execution_count": null,
      "outputs": [
        {
          "output_type": "stream",
          "name": "stdout",
          "text": [
            "['a', 'b', 'c', 'd']\n"
          ]
        }
      ]
    },
    {
      "cell_type": "code",
      "source": [
        "ls=['a','b','c','d','e']\n",
        "del ls[2]\n",
        "print(ls)"
      ],
      "metadata": {
        "colab": {
          "base_uri": "https://localhost:8080/"
        },
        "id": "cQAXCJkiqKBl",
        "outputId": "b7d30927-e4c2-472f-e884-14a36d4f005c"
      },
      "execution_count": null,
      "outputs": [
        {
          "output_type": "stream",
          "name": "stdout",
          "text": [
            "['a', 'b', 'd', 'e']\n"
          ]
        }
      ]
    },
    {
      "cell_type": "code",
      "source": [
        "ls=['a','b','c','d','e']\n",
        "ls.pop(2)\n",
        "print(ls)"
      ],
      "metadata": {
        "colab": {
          "base_uri": "https://localhost:8080/"
        },
        "id": "-FIRqoJ2qkeA",
        "outputId": "143c769e-0dc4-4fab-f4c0-66a6a395a4e4"
      },
      "execution_count": null,
      "outputs": [
        {
          "output_type": "stream",
          "name": "stdout",
          "text": [
            "['a', 'b', 'd', 'e']\n"
          ]
        }
      ]
    },
    {
      "cell_type": "code",
      "source": [
        "#count the values\n",
        "ls=['a','b','c','d','e','e','e']\n",
        "print(ls.count('e'))"
      ],
      "metadata": {
        "colab": {
          "base_uri": "https://localhost:8080/"
        },
        "id": "P0aeAWsys46Y",
        "outputId": "55e07ab7-52c5-42d4-d9b9-c2406984b7b0"
      },
      "execution_count": null,
      "outputs": [
        {
          "output_type": "stream",
          "name": "stdout",
          "text": [
            "3\n"
          ]
        }
      ]
    },
    {
      "cell_type": "code",
      "source": [
        "ls=['a','b','c','d','e','e','e']\n",
        "print(ls.count(3))"
      ],
      "metadata": {
        "colab": {
          "base_uri": "https://localhost:8080/"
        },
        "id": "05Sf97E8tiPA",
        "outputId": "f7eb94f4-ee6e-4626-cbbd-ebfa16efc64b"
      },
      "execution_count": null,
      "outputs": [
        {
          "output_type": "stream",
          "name": "stdout",
          "text": [
            "0\n"
          ]
        }
      ]
    },
    {
      "cell_type": "code",
      "source": [
        "#Index postion of value\n",
        "ls=['a','b','c','d','e']\n",
        "print(ls.index('b'))"
      ],
      "metadata": {
        "colab": {
          "base_uri": "https://localhost:8080/"
        },
        "id": "p40v1-I6tqJ6",
        "outputId": "8a25efac-3c65-4ba2-b22a-d4c7d104130a"
      },
      "execution_count": null,
      "outputs": [
        {
          "output_type": "stream",
          "name": "stdout",
          "text": [
            "1\n"
          ]
        }
      ]
    },
    {
      "cell_type": "code",
      "source": [
        "#Add the new value in the list\n",
        "ls=['a','b','c','d','e','f']\n",
        "ls.append('N')\n",
        "print(ls)"
      ],
      "metadata": {
        "colab": {
          "base_uri": "https://localhost:8080/"
        },
        "id": "aT4G_kyQuV9Y",
        "outputId": "913e65bf-18d9-49a8-c58b-d9287f5b3145"
      },
      "execution_count": null,
      "outputs": [
        {
          "output_type": "stream",
          "name": "stdout",
          "text": [
            "['a', 'b', 'c', 'd', 'e', 'f', 'N']\n"
          ]
        }
      ]
    },
    {
      "cell_type": "code",
      "source": [
        "ls=['a','b','c','d','e','f']\n",
        "ls.reverse()\n",
        "print(ls)"
      ],
      "metadata": {
        "colab": {
          "base_uri": "https://localhost:8080/"
        },
        "id": "7F3_6tndvKzK",
        "outputId": "73b3e1e2-89c1-4380-9a6a-b3e13b1e1f73"
      },
      "execution_count": null,
      "outputs": [
        {
          "output_type": "stream",
          "name": "stdout",
          "text": [
            "['f', 'e', 'd', 'c', 'b', 'a']\n"
          ]
        }
      ]
    },
    {
      "cell_type": "code",
      "source": [
        "ls=[10,20,30,40,6,5,7]\n",
        "ls.sort()\n",
        "print(ls)\n",
        "\n",
        "\n",
        "\n"
      ],
      "metadata": {
        "colab": {
          "base_uri": "https://localhost:8080/"
        },
        "id": "kche83qpvQSg",
        "outputId": "909695bc-91a1-4431-a42a-d1bc41069669"
      },
      "execution_count": null,
      "outputs": [
        {
          "output_type": "stream",
          "name": "stdout",
          "text": [
            "[5, 6, 7, 10, 20, 30, 40]\n"
          ]
        }
      ]
    },
    {
      "cell_type": "code",
      "source": [
        "ls=[10,20,30,40,3,5,2]\n",
        "ls.sort(reverse=True)\n",
        "print(ls)"
      ],
      "metadata": {
        "colab": {
          "base_uri": "https://localhost:8080/"
        },
        "id": "IyYvGubyztt4",
        "outputId": "9819586f-5e82-48db-a20a-eb433ab1b3bb"
      },
      "execution_count": null,
      "outputs": [
        {
          "output_type": "stream",
          "name": "stdout",
          "text": [
            "[40, 30, 20, 10, 5, 3, 2]\n"
          ]
        }
      ]
    },
    {
      "cell_type": "code",
      "source": [
        "lst=[2**x for x in range(10)] #List comperision\n",
        "print(lst)"
      ],
      "metadata": {
        "colab": {
          "base_uri": "https://localhost:8080/"
        },
        "id": "d_y2W3rL0pb_",
        "outputId": "c0743703-911e-4fd9-cc71-87b234b23e11"
      },
      "execution_count": null,
      "outputs": [
        {
          "output_type": "stream",
          "name": "stdout",
          "text": [
            "[1, 2, 4, 8, 16, 32, 64, 128, 256, 512]\n"
          ]
        }
      ]
    },
    {
      "cell_type": "code",
      "source": [
        "lst=[2+x for x in range(10)] #List comperision\n",
        "print(lst)"
      ],
      "metadata": {
        "colab": {
          "base_uri": "https://localhost:8080/"
        },
        "id": "pAw2ycga1RQR",
        "outputId": "05b87de5-49b9-4f37-81de-7609cc8c6361"
      },
      "execution_count": null,
      "outputs": [
        {
          "output_type": "stream",
          "name": "stdout",
          "text": [
            "[2, 3, 4, 5, 6, 7, 8, 9, 10, 11]\n"
          ]
        }
      ]
    },
    {
      "cell_type": "code",
      "source": [
        "#Clonning of list\n",
        "lista=[10,20,30,40]\n",
        "print(lista)\n",
        "listb=lista.copy()\n",
        "listb[3]=23\n",
        "print(listb)\n"
      ],
      "metadata": {
        "colab": {
          "base_uri": "https://localhost:8080/"
        },
        "id": "BoLSkT3g1qD6",
        "outputId": "82d84884-7618-4839-ac88-b4872ec00b92"
      },
      "execution_count": null,
      "outputs": [
        {
          "output_type": "stream",
          "name": "stdout",
          "text": [
            "[10, 20, 30, 40]\n",
            "[10, 20, 30, 23]\n"
          ]
        }
      ]
    },
    {
      "cell_type": "code",
      "source": [
        "alist=[10,20,30]\n",
        "blist=[30,40,50]\n",
        "print(alist+blist)"
      ],
      "metadata": {
        "colab": {
          "base_uri": "https://localhost:8080/"
        },
        "id": "BM__zoNK3ohO",
        "outputId": "8ec281db-fd6e-4fd8-818d-d620c88cdd41"
      },
      "execution_count": null,
      "outputs": [
        {
          "output_type": "stream",
          "name": "stdout",
          "text": [
            "[10, 20, 30, 30, 40, 50]\n"
          ]
        }
      ]
    },
    {
      "cell_type": "code",
      "source": [
        "\n",
        "\n",
        "location_of_tajMahal=[]\n",
        "location_of_tajMahal=[72.55455565,74.643545666]\n",
        "print(location_of_tajMahal)\n",
        "location_of_tajMahal[0]=122.3445454\n",
        "print(location_of_tajMahal)\n"
      ],
      "metadata": {
        "colab": {
          "base_uri": "https://localhost:8080/"
        },
        "id": "XRkB6EynhdcF",
        "outputId": "edbbb605-691a-4167-ca84-9356959e18e7"
      },
      "execution_count": null,
      "outputs": [
        {
          "output_type": "stream",
          "name": "stdout",
          "text": [
            "[72.55455565, 74.643545666]\n",
            "[122.3445454, 74.643545666]\n"
          ]
        }
      ]
    },
    {
      "cell_type": "code",
      "source": [
        "#tuple\n",
        "location_of_tajMahal=(72.55455565,74.643545666)\n",
        "print(location_of_tajMahal)\n",
        "location_of_tajMahal[0]=122.3445454\n",
        "print(location_of_tajMahal)"
      ],
      "metadata": {
        "colab": {
          "base_uri": "https://localhost:8080/",
          "height": 245
        },
        "id": "d8FUO0W5lTS8",
        "outputId": "0b7e1603-942a-4541-cc8b-b2a0866c335b"
      },
      "execution_count": null,
      "outputs": [
        {
          "output_type": "stream",
          "name": "stdout",
          "text": [
            "(72.55455565, 74.643545666)\n"
          ]
        },
        {
          "output_type": "error",
          "ename": "TypeError",
          "evalue": "ignored",
          "traceback": [
            "\u001b[0;31m---------------------------------------------------------------------------\u001b[0m",
            "\u001b[0;31mTypeError\u001b[0m                                 Traceback (most recent call last)",
            "\u001b[0;32m<ipython-input-5-b3969ca6e00c>\u001b[0m in \u001b[0;36m<cell line: 4>\u001b[0;34m()\u001b[0m\n\u001b[1;32m      2\u001b[0m \u001b[0mlocation_of_tajMahal\u001b[0m\u001b[0;34m=\u001b[0m\u001b[0;34m(\u001b[0m\u001b[0;36m72.55455565\u001b[0m\u001b[0;34m,\u001b[0m\u001b[0;36m74.643545666\u001b[0m\u001b[0;34m)\u001b[0m\u001b[0;34m\u001b[0m\u001b[0;34m\u001b[0m\u001b[0m\n\u001b[1;32m      3\u001b[0m \u001b[0mprint\u001b[0m\u001b[0;34m(\u001b[0m\u001b[0mlocation_of_tajMahal\u001b[0m\u001b[0;34m)\u001b[0m\u001b[0;34m\u001b[0m\u001b[0;34m\u001b[0m\u001b[0m\n\u001b[0;32m----> 4\u001b[0;31m \u001b[0mlocation_of_tajMahal\u001b[0m\u001b[0;34m[\u001b[0m\u001b[0;36m0\u001b[0m\u001b[0;34m]\u001b[0m\u001b[0;34m=\u001b[0m\u001b[0;36m122.3445454\u001b[0m\u001b[0;34m\u001b[0m\u001b[0;34m\u001b[0m\u001b[0m\n\u001b[0m\u001b[1;32m      5\u001b[0m \u001b[0mprint\u001b[0m\u001b[0;34m(\u001b[0m\u001b[0mlocation_of_tajMahal\u001b[0m\u001b[0;34m)\u001b[0m\u001b[0;34m\u001b[0m\u001b[0;34m\u001b[0m\u001b[0m\n",
            "\u001b[0;31mTypeError\u001b[0m: 'tuple' object does not support item assignment"
          ]
        }
      ]
    },
    {
      "cell_type": "code",
      "source": [
        "tup1=(10,12,13,14,15)\n",
        "print(type(tup1))"
      ],
      "metadata": {
        "colab": {
          "base_uri": "https://localhost:8080/"
        },
        "id": "qn1ODmadlqhM",
        "outputId": "40d2e688-9191-4219-bae2-24bf06b70409"
      },
      "execution_count": null,
      "outputs": [
        {
          "output_type": "stream",
          "name": "stdout",
          "text": [
            "<class 'tuple'>\n"
          ]
        }
      ]
    },
    {
      "cell_type": "code",
      "source": [
        "tup2=(10)\n",
        "print(type(tup2))"
      ],
      "metadata": {
        "colab": {
          "base_uri": "https://localhost:8080/"
        },
        "id": "5N1m3xOumQYj",
        "outputId": "a9fd89e8-cffc-4697-8e0f-96d1b611f74f"
      },
      "execution_count": null,
      "outputs": [
        {
          "output_type": "stream",
          "name": "stdout",
          "text": [
            "<class 'int'>\n"
          ]
        }
      ]
    },
    {
      "cell_type": "code",
      "source": [
        "typ3=(20,10,30,\"Rajat\")\n",
        "print(typ3[3][1])"
      ],
      "metadata": {
        "colab": {
          "base_uri": "https://localhost:8080/"
        },
        "id": "TCMyQa4bm0v4",
        "outputId": "95663f3c-3d7c-43f7-9c08-78979690b684"
      },
      "execution_count": null,
      "outputs": [
        {
          "output_type": "stream",
          "name": "stdout",
          "text": [
            "a\n"
          ]
        }
      ]
    },
    {
      "cell_type": "code",
      "source": [
        "tup4=((20,30,40),(20,20,20),(30,40,50))\n",
        "print(tup4)\n",
        "print(tup4[1])"
      ],
      "metadata": {
        "colab": {
          "base_uri": "https://localhost:8080/"
        },
        "id": "DoUtjzdBn5ap",
        "outputId": "efdba53f-7d9f-4004-ff7a-14e7930bbe2e"
      },
      "execution_count": null,
      "outputs": [
        {
          "output_type": "stream",
          "name": "stdout",
          "text": [
            "((20, 30, 40), (20, 20, 20), (30, 40, 50))\n",
            "(20, 20, 20)\n"
          ]
        }
      ]
    },
    {
      "cell_type": "code",
      "source": [
        "tup5=(10,20,30,10,10,30,20)\n",
        "print(tup5.count(10))"
      ],
      "metadata": {
        "colab": {
          "base_uri": "https://localhost:8080/"
        },
        "id": "t6BbjiN3qPEh",
        "outputId": "24aa872e-50cc-4f10-aa5e-f99088ebd4ec"
      },
      "execution_count": null,
      "outputs": [
        {
          "output_type": "stream",
          "name": "stdout",
          "text": [
            "3\n"
          ]
        }
      ]
    },
    {
      "cell_type": "code",
      "source": [
        "tup6=(10,20,30,40,50,6,5)\n",
        "sorted(tup6)\n",
        "print(tuple(sorted(tup6,reverse=True)))"
      ],
      "metadata": {
        "colab": {
          "base_uri": "https://localhost:8080/"
        },
        "id": "2RmXISP6qj06",
        "outputId": "74b39ad5-2a12-4438-b865-42a43b9a4c26"
      },
      "execution_count": null,
      "outputs": [
        {
          "output_type": "stream",
          "name": "stdout",
          "text": [
            "(50, 40, 30, 20, 10, 6, 5)\n"
          ]
        }
      ]
    },
    {
      "cell_type": "code",
      "source": [
        "tup7=(10,20,30,40,50,6,5)\n",
        "print(min(tup7))\n",
        "print(max(tup7))\n",
        "print(sum(tup7))"
      ],
      "metadata": {
        "colab": {
          "base_uri": "https://localhost:8080/"
        },
        "id": "F2QEWE2YrknN",
        "outputId": "095896b0-f5db-4708-f80a-f83b5a08563c"
      },
      "execution_count": null,
      "outputs": [
        {
          "output_type": "stream",
          "name": "stdout",
          "text": [
            "5\n",
            "50\n",
            "161\n"
          ]
        }
      ]
    },
    {
      "cell_type": "code",
      "source": [
        "tup8=(10,20,30,40,50,6,5)\n",
        "for a in tup8:\n",
        "    print(a)"
      ],
      "metadata": {
        "colab": {
          "base_uri": "https://localhost:8080/"
        },
        "id": "Nd8bdGoRsRKV",
        "outputId": "93d30533-f182-4111-a701-e1c93c03e046"
      },
      "execution_count": null,
      "outputs": [
        {
          "output_type": "stream",
          "name": "stdout",
          "text": [
            "10\n",
            "20\n",
            "30\n",
            "40\n",
            "50\n",
            "6\n",
            "5\n"
          ]
        }
      ]
    },
    {
      "cell_type": "code",
      "source": [
        "tup8=(10,20,30,40,50,6,5)\n",
        "tup9=(2,3,4,5)\n",
        "print(tup8+tup9)"
      ],
      "metadata": {
        "colab": {
          "base_uri": "https://localhost:8080/"
        },
        "id": "3YvuApH9tou6",
        "outputId": "ea72f577-c452-4323-e497-b81dc3a1d00e"
      },
      "execution_count": null,
      "outputs": [
        {
          "output_type": "stream",
          "name": "stdout",
          "text": [
            "(10, 20, 30, 40, 50, 6, 5, 2, 3, 4, 5)\n"
          ]
        }
      ]
    },
    {
      "cell_type": "code",
      "source": [
        "tup=tuple((2*a for a in range(1,11)))\n",
        "print(tup)\n",
        "print(type(tup))"
      ],
      "metadata": {
        "colab": {
          "base_uri": "https://localhost:8080/"
        },
        "id": "vLDBn5OitMKk",
        "outputId": "e2738a17-de82-4e54-ce47-81c9c9990f1f"
      },
      "execution_count": null,
      "outputs": [
        {
          "output_type": "stream",
          "name": "stdout",
          "text": [
            "(2, 4, 6, 8, 10, 12, 14, 16, 18, 20)\n",
            "<class 'tuple'>\n"
          ]
        }
      ]
    },
    {
      "cell_type": "code",
      "source": [
        "tup10=[(20,30,40),(20,20,20),(30,40,50)]\n",
        "\n",
        "# Change the last element of tuple by 100 in list\n",
        "print(tup10)\n",
        "lst=[]\n",
        "for tup in tup10:\n",
        "    temp=tup[0:2]\n",
        "    temp=temp+(100,)\n",
        "    lst.append(temp)\n",
        "print(lst)\n",
        "\n"
      ],
      "metadata": {
        "colab": {
          "base_uri": "https://localhost:8080/"
        },
        "id": "U-PGQpR-uHk0",
        "outputId": "e01b2470-22e5-43eb-cb9d-fcd23fabee5a"
      },
      "execution_count": null,
      "outputs": [
        {
          "output_type": "stream",
          "name": "stdout",
          "text": [
            "[(20, 30, 40), (20, 20, 20), (30, 40, 50)]\n",
            "[(20, 30, 100), (20, 20, 100), (30, 40, 100)]\n"
          ]
        }
      ]
    },
    {
      "cell_type": "code",
      "source": [
        "adhno=[23232323232,343434343343]\n",
        "adhno.append(594959499494)\n",
        "print(adhno)"
      ],
      "metadata": {
        "colab": {
          "base_uri": "https://localhost:8080/"
        },
        "id": "88ISP-Yxm61r",
        "outputId": "94fbc3fc-cb0b-45b5-d575-a7f77b94e023"
      },
      "execution_count": null,
      "outputs": [
        {
          "output_type": "stream",
          "name": "stdout",
          "text": [
            "[23232323232, 343434343343, 594959499494]\n"
          ]
        }
      ]
    },
    {
      "cell_type": "code",
      "source": [
        "adhno=[23232323232,343434343343,594959499494]\n",
        "adhno.append(594959499494)\n",
        "print(adhno)"
      ],
      "metadata": {
        "colab": {
          "base_uri": "https://localhost:8080/"
        },
        "id": "x_H9tCxWnf78",
        "outputId": "7307cd00-83d2-4b74-d2b1-bf3d226d9e3e"
      },
      "execution_count": null,
      "outputs": [
        {
          "output_type": "stream",
          "name": "stdout",
          "text": [
            "[23232323232, 343434343343, 594959499494, 594959499494]\n"
          ]
        }
      ]
    },
    {
      "cell_type": "code",
      "source": [
        "#instead of list ...set will be used ,\n",
        "set={1,20,23,30}\n",
        "print(set)\n",
        "print(type(set))\n",
        "set.add(65)\n",
        "print(set)"
      ],
      "metadata": {
        "colab": {
          "base_uri": "https://localhost:8080/"
        },
        "id": "6uhYkj1-n1Q9",
        "outputId": "5403d05a-f99f-430a-cadc-7de7254f5d4d"
      },
      "execution_count": null,
      "outputs": [
        {
          "output_type": "stream",
          "name": "stdout",
          "text": [
            "{1, 20, 30, 23}\n",
            "<class 'set'>\n",
            "{65, 1, 20, 23, 30}\n"
          ]
        }
      ]
    },
    {
      "cell_type": "code",
      "source": [
        "adhnoset={23232323232,343434343343}\n",
        "print(type(adhnoset))\n",
        "adhnoset.add(343434343343)\n",
        "print(adhnoset)"
      ],
      "metadata": {
        "colab": {
          "base_uri": "https://localhost:8080/"
        },
        "id": "JtFVUfyipLLl",
        "outputId": "09695a30-50a8-48be-db06-943eb33e8217"
      },
      "execution_count": null,
      "outputs": [
        {
          "output_type": "stream",
          "name": "stdout",
          "text": [
            "<class 'set'>\n",
            "{23232323232, 343434343343}\n"
          ]
        }
      ]
    },
    {
      "cell_type": "code",
      "source": [
        "adhnoset={23232323232,343434343343}\n",
        "print(type(adhnoset))\n",
        "adhnoset[0]='343434343343'\n",
        "print(adhnoset)\n"
      ],
      "metadata": {
        "colab": {
          "base_uri": "https://localhost:8080/",
          "height": 245
        },
        "id": "3YpDsbPYqLh9",
        "outputId": "fd6913b2-958f-469c-8fda-ab189426b1f2"
      },
      "execution_count": null,
      "outputs": [
        {
          "output_type": "stream",
          "name": "stdout",
          "text": [
            "<class 'set'>\n"
          ]
        },
        {
          "output_type": "error",
          "ename": "TypeError",
          "evalue": "ignored",
          "traceback": [
            "\u001b[0;31m---------------------------------------------------------------------------\u001b[0m",
            "\u001b[0;31mTypeError\u001b[0m                                 Traceback (most recent call last)",
            "\u001b[0;32m<ipython-input-11-46577067369d>\u001b[0m in \u001b[0;36m<cell line: 3>\u001b[0;34m()\u001b[0m\n\u001b[1;32m      1\u001b[0m \u001b[0madhnoset\u001b[0m\u001b[0;34m=\u001b[0m\u001b[0;34m{\u001b[0m\u001b[0;36m23232323232\u001b[0m\u001b[0;34m,\u001b[0m\u001b[0;36m343434343343\u001b[0m\u001b[0;34m}\u001b[0m\u001b[0;34m\u001b[0m\u001b[0;34m\u001b[0m\u001b[0m\n\u001b[1;32m      2\u001b[0m \u001b[0mprint\u001b[0m\u001b[0;34m(\u001b[0m\u001b[0mtype\u001b[0m\u001b[0;34m(\u001b[0m\u001b[0madhnoset\u001b[0m\u001b[0;34m)\u001b[0m\u001b[0;34m)\u001b[0m\u001b[0;34m\u001b[0m\u001b[0;34m\u001b[0m\u001b[0m\n\u001b[0;32m----> 3\u001b[0;31m \u001b[0madhnoset\u001b[0m\u001b[0;34m[\u001b[0m\u001b[0;36m0\u001b[0m\u001b[0;34m]\u001b[0m\u001b[0;34m=\u001b[0m\u001b[0;34m'343434343343'\u001b[0m\u001b[0;34m\u001b[0m\u001b[0;34m\u001b[0m\u001b[0m\n\u001b[0m\u001b[1;32m      4\u001b[0m \u001b[0mprint\u001b[0m\u001b[0;34m(\u001b[0m\u001b[0madhnoset\u001b[0m\u001b[0;34m)\u001b[0m\u001b[0;34m\u001b[0m\u001b[0;34m\u001b[0m\u001b[0m\n",
            "\u001b[0;31mTypeError\u001b[0m: 'set' object does not support item assignment"
          ]
        }
      ]
    },
    {
      "cell_type": "code",
      "source": [
        "# In sets order is not preserved\n",
        "set={10,20,30,5,6,7,8}\n",
        "print(set)"
      ],
      "metadata": {
        "colab": {
          "base_uri": "https://localhost:8080/"
        },
        "id": "5zHHWGckrNCE",
        "outputId": "9ad9f4c5-8e1c-4416-cf47-afa8d6d71567"
      },
      "execution_count": null,
      "outputs": [
        {
          "output_type": "stream",
          "name": "stdout",
          "text": [
            "{20, 5, 6, 7, 8, 10, 30}\n"
          ]
        }
      ]
    },
    {
      "cell_type": "code",
      "source": [
        "print(set)\n",
        "set.add(43)\n",
        "print(set)"
      ],
      "metadata": {
        "colab": {
          "base_uri": "https://localhost:8080/"
        },
        "id": "5JCMm0o4reJy",
        "outputId": "5819f9ef-1943-4703-ffa6-769d3f0291b3"
      },
      "execution_count": null,
      "outputs": [
        {
          "output_type": "stream",
          "name": "stdout",
          "text": [
            "{20, 5, 6, 7, 8, 10, 30}\n",
            "{20, 5, 6, 7, 8, 10, 43, 30}\n"
          ]
        }
      ]
    },
    {
      "cell_type": "code",
      "source": [
        "st={\"Rajat\",19,(20,30,40)} # hetrogenus data in set\n",
        "print(st)"
      ],
      "metadata": {
        "colab": {
          "base_uri": "https://localhost:8080/"
        },
        "id": "wMyujRWCrwFg",
        "outputId": "c93c9c59-a5df-45de-a789-2895d4b5524d"
      },
      "execution_count": null,
      "outputs": [
        {
          "output_type": "stream",
          "name": "stdout",
          "text": [
            "{'Rajat', (20, 30, 40), 19}\n"
          ]
        }
      ]
    },
    {
      "cell_type": "code",
      "source": [
        "sn=set(range(5))\n",
        "print(sn)"
      ],
      "metadata": {
        "colab": {
          "base_uri": "https://localhost:8080/",
          "height": 193
        },
        "id": "hvjxrnKZs5GZ",
        "outputId": "ba9ce0aa-8a3b-4088-a779-ed4d405dae0a"
      },
      "execution_count": null,
      "outputs": [
        {
          "output_type": "error",
          "ename": "TypeError",
          "evalue": "ignored",
          "traceback": [
            "\u001b[0;31m---------------------------------------------------------------------------\u001b[0m",
            "\u001b[0;31mTypeError\u001b[0m                                 Traceback (most recent call last)",
            "\u001b[0;32m<ipython-input-19-b05b87f30f6e>\u001b[0m in \u001b[0;36m<cell line: 1>\u001b[0;34m()\u001b[0m\n\u001b[0;32m----> 1\u001b[0;31m \u001b[0msn\u001b[0m\u001b[0;34m=\u001b[0m\u001b[0mset\u001b[0m\u001b[0;34m(\u001b[0m\u001b[0mrange\u001b[0m\u001b[0;34m(\u001b[0m\u001b[0;36m5\u001b[0m\u001b[0;34m)\u001b[0m\u001b[0;34m)\u001b[0m\u001b[0;34m\u001b[0m\u001b[0;34m\u001b[0m\u001b[0m\n\u001b[0m\u001b[1;32m      2\u001b[0m \u001b[0mprint\u001b[0m\u001b[0;34m(\u001b[0m\u001b[0msn\u001b[0m\u001b[0;34m)\u001b[0m\u001b[0;34m\u001b[0m\u001b[0;34m\u001b[0m\u001b[0m\n",
            "\u001b[0;31mTypeError\u001b[0m: 'set' object is not callable"
          ]
        }
      ]
    },
    {
      "cell_type": "code",
      "source": [
        "#empty set\n",
        "\n",
        "su_data={10,20,30,40}\n",
        "su_data.update([60,70,80,90])\n",
        "print(su_data)"
      ],
      "metadata": {
        "colab": {
          "base_uri": "https://localhost:8080/"
        },
        "id": "hyycSspqulzn",
        "outputId": "6ce415ea-043e-459d-e990-00eca1250eff"
      },
      "execution_count": null,
      "outputs": [
        {
          "output_type": "stream",
          "name": "stdout",
          "text": [
            "{70, 40, 10, 80, 20, 90, 60, 30}\n"
          ]
        }
      ]
    },
    {
      "cell_type": "code",
      "source": [
        "st1={10,20,30}\n",
        "st2={60,40,50}\n",
        "st1=st2.copy()\n",
        "print(st1)\n",
        "print(st2)\n",
        "print(id(st1))\n",
        "print(id(st2))"
      ],
      "metadata": {
        "colab": {
          "base_uri": "https://localhost:8080/"
        },
        "id": "5UR2tWThwkNd",
        "outputId": "42a7e945-18b2-4fca-c524-28c7e8e74e52"
      },
      "execution_count": null,
      "outputs": [
        {
          "output_type": "stream",
          "name": "stdout",
          "text": [
            "{40, 50, 60}\n",
            "{40, 50, 60}\n",
            "133955501443104\n",
            "133955501443328\n"
          ]
        }
      ]
    },
    {
      "cell_type": "code",
      "source": [
        "st1={10,20,30,40}\n",
        "print(st1.pop())"
      ],
      "metadata": {
        "colab": {
          "base_uri": "https://localhost:8080/"
        },
        "id": "cFUU-MzlyT3k",
        "outputId": "bffae035-6a22-42c6-8cbd-b71d2b435193"
      },
      "execution_count": null,
      "outputs": [
        {
          "output_type": "stream",
          "name": "stdout",
          "text": [
            "40\n"
          ]
        }
      ]
    },
    {
      "cell_type": "code",
      "source": [
        "st1={10,20,30,40}\n",
        "st1.remove(20)\n",
        "print(st1)\n",
        "st1.discard(30)\n",
        "print(st1)"
      ],
      "metadata": {
        "colab": {
          "base_uri": "https://localhost:8080/"
        },
        "id": "ataT3KACzmf2",
        "outputId": "94107d8a-83cd-45cd-b3ff-dbec47983253"
      },
      "execution_count": null,
      "outputs": [
        {
          "output_type": "stream",
          "name": "stdout",
          "text": [
            "{40, 10, 30}\n",
            "{40, 10}\n"
          ]
        }
      ]
    },
    {
      "cell_type": "code",
      "source": [
        "st2={10,20,30}\n",
        "st3={23,65,20,10,30}\n",
        "st2.issubset(st3) # all element of st2 should be present st3"
      ],
      "metadata": {
        "colab": {
          "base_uri": "https://localhost:8080/"
        },
        "id": "Ii4Ch7Ny0CF1",
        "outputId": "011379f3-cba7-4466-e408-2f326b3e12a5"
      },
      "execution_count": null,
      "outputs": [
        {
          "output_type": "execute_result",
          "data": {
            "text/plain": [
              "True"
            ]
          },
          "metadata": {},
          "execution_count": 39
        }
      ]
    },
    {
      "cell_type": "code",
      "source": [
        "st3={10,20}\n",
        "st4={34,20,10,5}\n",
        "st4|st3 #union\n",
        "print(st3.union(st4))"
      ],
      "metadata": {
        "colab": {
          "base_uri": "https://localhost:8080/"
        },
        "id": "ev6V8Ta703zB",
        "outputId": "2cf946e0-35a4-48d6-8d0e-f8e12cb96c18"
      },
      "execution_count": null,
      "outputs": [
        {
          "output_type": "stream",
          "name": "stdout",
          "text": [
            "{34, 20, 5, 10}\n"
          ]
        }
      ]
    },
    {
      "cell_type": "code",
      "source": [
        "st3={10,20}\n",
        "st4={34,20,10,5}\n",
        "print(st4.intersection(st3))\n",
        "print(st3 &st4)"
      ],
      "metadata": {
        "colab": {
          "base_uri": "https://localhost:8080/"
        },
        "id": "lOEOHhuy1t7a",
        "outputId": "b367ed6b-0d9a-47e8-f8c1-3e78620ae893"
      },
      "execution_count": null,
      "outputs": [
        {
          "output_type": "stream",
          "name": "stdout",
          "text": [
            "{10, 20}\n",
            "{10, 20}\n"
          ]
        }
      ]
    },
    {
      "cell_type": "code",
      "source": [
        "stn={2*x for x in range(1,11)}\n",
        "print(stn)"
      ],
      "metadata": {
        "colab": {
          "base_uri": "https://localhost:8080/"
        },
        "id": "tgwB5w603CW9",
        "outputId": "23425ba1-f6c9-4c9e-f1a8-6e37efba7789"
      },
      "execution_count": null,
      "outputs": [
        {
          "output_type": "stream",
          "name": "stdout",
          "text": [
            "{2, 4, 6, 8, 10, 12, 14, 16, 18, 20}\n"
          ]
        }
      ]
    },
    {
      "cell_type": "code",
      "source": [
        "stn={(x-1)+x for x in range(1,11)}\n",
        "print(stn)"
      ],
      "metadata": {
        "colab": {
          "base_uri": "https://localhost:8080/"
        },
        "id": "8ynvq0fE3btV",
        "outputId": "aec9da19-1568-494e-db83-2767529723db"
      },
      "execution_count": null,
      "outputs": [
        {
          "output_type": "stream",
          "name": "stdout",
          "text": [
            "{1, 3, 5, 7, 9, 11, 13, 15, 17, 19}\n"
          ]
        }
      ]
    },
    {
      "cell_type": "code",
      "source": [
        "stn={(x-1)+(x+2) for x in range(1,11)}\n",
        "print(stn)"
      ],
      "metadata": {
        "colab": {
          "base_uri": "https://localhost:8080/"
        },
        "id": "IYjf10yQ4O6y",
        "outputId": "29594f01-0c0f-4cbf-9f7b-dc2c94e202dd"
      },
      "execution_count": null,
      "outputs": [
        {
          "output_type": "stream",
          "name": "stdout",
          "text": [
            "{3, 5, 7, 9, 11, 13, 15, 17, 19, 21}\n"
          ]
        }
      ]
    },
    {
      "cell_type": "code",
      "source": [
        "list=['True','False','True']\n",
        "print(any(list))"
      ],
      "metadata": {
        "colab": {
          "base_uri": "https://localhost:8080/"
        },
        "id": "wQBDCSGI5Ay2",
        "outputId": "9a340639-cdb1-424e-c3a8-19651d53be71"
      },
      "execution_count": null,
      "outputs": [
        {
          "output_type": "stream",
          "name": "stdout",
          "text": [
            "True\n"
          ]
        }
      ]
    },
    {
      "cell_type": "code",
      "source": [
        "#Dictionary\n",
        "hts={\"Rajat\":234,\"Ram\":565,\"Pin\":443}\n",
        "print(hts)\n",
        "print(type(hts))"
      ],
      "metadata": {
        "colab": {
          "base_uri": "https://localhost:8080/"
        },
        "id": "HfevUXGNPrTt",
        "outputId": "b8f0f566-c581-4269-d3b5-3df1cebd191a"
      },
      "execution_count": null,
      "outputs": [
        {
          "output_type": "stream",
          "name": "stdout",
          "text": [
            "{'Rajat': 234, 'Ram': 565, 'Pin': 443}\n",
            "<class 'dict'>\n"
          ]
        }
      ]
    },
    {
      "cell_type": "code",
      "source": [
        "hts={\"Rajat\":234,\"Ram\":565,\"Pin\":443,\"Pin\":665}\n",
        "print(hts)\n",
        "hts[\"Rajat\"]\n",
        "hts[\"Pin\"]\n"
      ],
      "metadata": {
        "colab": {
          "base_uri": "https://localhost:8080/"
        },
        "id": "wmKivw6ek3-l",
        "outputId": "d4373b90-8ae1-418f-bf6b-9c8f5e4f3c8a"
      },
      "execution_count": null,
      "outputs": [
        {
          "output_type": "stream",
          "name": "stdout",
          "text": [
            "{'Rajat': 234, 'Ram': 565, 'Pin': 665}\n"
          ]
        },
        {
          "output_type": "execute_result",
          "data": {
            "text/plain": [
              "665"
            ]
          },
          "metadata": {},
          "execution_count": 9
        }
      ]
    },
    {
      "cell_type": "code",
      "source": [
        "hts['address']='22,433'\n",
        "print(hts)"
      ],
      "metadata": {
        "colab": {
          "base_uri": "https://localhost:8080/"
        },
        "id": "1JeQP1S138My",
        "outputId": "cf041b51-fa05-44ab-c916-f75bb95dff0a"
      },
      "execution_count": null,
      "outputs": [
        {
          "output_type": "stream",
          "name": "stdout",
          "text": [
            "{'Rajat': 234, 'Ram': 565, 'Pin': 665, 'address': '22,433'}\n"
          ]
        }
      ]
    },
    {
      "cell_type": "code",
      "source": [
        "name={}\n",
        "print(name)\n",
        "print(type(name))\n",
        "hts.keys()\n",
        "for k in hts.keys():\n",
        "  print(k,hts[k])"
      ],
      "metadata": {
        "colab": {
          "base_uri": "https://localhost:8080/"
        },
        "id": "nTSonJJ11qtX",
        "outputId": "0f9dded7-cb4b-4b15-b798-7b4a8898a573"
      },
      "execution_count": null,
      "outputs": [
        {
          "output_type": "stream",
          "name": "stdout",
          "text": [
            "{}\n",
            "<class 'dict'>\n",
            "Rajat 234\n",
            "Ram 565\n",
            "Pin 665\n",
            "address 22,433\n"
          ]
        }
      ]
    },
    {
      "cell_type": "code",
      "source": [
        "hts={\"Rajat\":234,\"Ram\":565,\"Pin\":443,\"Pin\":665}\n",
        "hts.keys()\n",
        "#hts.values()\n",
        "#hts.items()"
      ],
      "metadata": {
        "colab": {
          "base_uri": "https://localhost:8080/"
        },
        "id": "fLzt3AMnCH3y",
        "outputId": "1bdfb9a1-d0a2-4dde-ef16-820a416f0141"
      },
      "execution_count": null,
      "outputs": [
        {
          "output_type": "execute_result",
          "data": {
            "text/plain": [
              "dict_keys(['Rajat', 'Ram', 'Pin'])"
            ]
          },
          "metadata": {},
          "execution_count": 21
        }
      ]
    },
    {
      "cell_type": "code",
      "source": [
        "hts={\"Rajat\":234,\"Ram\":565,\"Pin\":443,\"Pin\":665}\n",
        "for k,v in hts.items():\n",
        "  print(k,v)"
      ],
      "metadata": {
        "colab": {
          "base_uri": "https://localhost:8080/"
        },
        "id": "fmLtBtR0CbwN",
        "outputId": "a07448e5-9416-45a9-9c7d-cc68b62abf7b"
      },
      "execution_count": null,
      "outputs": [
        {
          "output_type": "stream",
          "name": "stdout",
          "text": [
            "Rajat 234\n",
            "Ram 565\n",
            "Pin 665\n"
          ]
        }
      ]
    },
    {
      "cell_type": "code",
      "source": [
        "d = {“john”:40, “peter”:45}\n",
        "d[\"susan\"]"
      ],
      "metadata": {
        "id": "Me_CalHiGmU3",
        "outputId": "ee00e7ad-5073-4649-bcee-6b7f6c6d145b",
        "colab": {
          "base_uri": "https://localhost:8080/",
          "height": 141
        }
      },
      "execution_count": null,
      "outputs": [
        {
          "output_type": "error",
          "ename": "SyntaxError",
          "evalue": "ignored",
          "traceback": [
            "\u001b[0;36m  File \u001b[0;32m\"<ipython-input-27-24316f970a19>\"\u001b[0;36m, line \u001b[0;32m1\u001b[0m\n\u001b[0;31m    d = {“john”:40, “peter”:45}\u001b[0m\n\u001b[0m         ^\u001b[0m\n\u001b[0;31mSyntaxError\u001b[0m\u001b[0;31m:\u001b[0m invalid character '“' (U+201C)\n"
          ]
        }
      ]
    },
    {
      "cell_type": "code",
      "source": [
        "#String\n",
        "\n",
        "name=\"Rajat\"\n",
        "min=\"R\"\n",
        "print(\"name\")\n",
        "print(\"min\")\n",
        "print(type(name))"
      ],
      "metadata": {
        "colab": {
          "base_uri": "https://localhost:8080/"
        },
        "id": "555yawNa8ksP",
        "outputId": "37ba29ac-9e14-43ff-aa3e-51a83ba76784"
      },
      "execution_count": null,
      "outputs": [
        {
          "output_type": "stream",
          "name": "stdout",
          "text": [
            "name\n",
            "min\n",
            "<class 'str'>\n"
          ]
        }
      ]
    },
    {
      "cell_type": "code",
      "source": [
        "WelcomeMessage='Welcome back, Rajat\\'s session'\n",
        "print(WelcomeMessage)"
      ],
      "metadata": {
        "colab": {
          "base_uri": "https://localhost:8080/"
        },
        "id": "tZDrR5JR89sL",
        "outputId": "6303cc9b-da1a-4dfd-892e-9c28b38377de"
      },
      "execution_count": null,
      "outputs": [
        {
          "output_type": "stream",
          "name": "stdout",
          "text": [
            "Welcome back, Rajat's session\n"
          ]
        }
      ]
    },
    {
      "cell_type": "code",
      "source": [
        "WelcomeMessage=\"Welcome back, Rajat's session\"\n",
        "print(WelcomeMessage)"
      ],
      "metadata": {
        "colab": {
          "base_uri": "https://localhost:8080/"
        },
        "id": "VEB0rhZb9-UE",
        "outputId": "df09580b-0043-45d0-85ea-49fe8c87c6fc"
      },
      "execution_count": null,
      "outputs": [
        {
          "output_type": "stream",
          "name": "stdout",
          "text": [
            "Welcome back, Rajat's session\n"
          ]
        }
      ]
    },
    {
      "cell_type": "code",
      "source": [
        "WelcomeMessage='Welcome back, Rajat\"s session'\n",
        "print(WelcomeMessage)"
      ],
      "metadata": {
        "colab": {
          "base_uri": "https://localhost:8080/"
        },
        "id": "nkku_mFQ-PTL",
        "outputId": "86868568-8a28-4c99-b73f-524fb607e9b4"
      },
      "execution_count": null,
      "outputs": [
        {
          "output_type": "stream",
          "name": "stdout",
          "text": [
            "Welcome back, Rajat\"s session\n"
          ]
        }
      ]
    },
    {
      "cell_type": "code",
      "source": [
        "str=\"Rajat\"\n",
        "print(str[0:2])"
      ],
      "metadata": {
        "colab": {
          "base_uri": "https://localhost:8080/"
        },
        "id": "4ri0Sjbt-cTU",
        "outputId": "63e07d23-f094-46ca-8794-b23c838ff145"
      },
      "execution_count": null,
      "outputs": [
        {
          "output_type": "stream",
          "name": "stdout",
          "text": [
            "Ra\n"
          ]
        }
      ]
    },
    {
      "cell_type": "code",
      "source": [
        "str=\"Rajat\"\n",
        "print(str[3::-2])"
      ],
      "metadata": {
        "colab": {
          "base_uri": "https://localhost:8080/"
        },
        "id": "EYjkjvEtGhR7",
        "outputId": "e246e880-1e07-49f7-e8b7-57e39baf9984"
      },
      "execution_count": null,
      "outputs": [
        {
          "output_type": "stream",
          "name": "stdout",
          "text": [
            "aa\n"
          ]
        }
      ]
    },
    {
      "cell_type": "code",
      "source": [
        "str1='Rajat'\n",
        "str2='Sharan'\n",
        "print(str1+\" \"+str2)\n",
        "print(str1,str2)"
      ],
      "metadata": {
        "colab": {
          "base_uri": "https://localhost:8080/"
        },
        "id": "cgU0IdNrKEWR",
        "outputId": "21a933c9-1fbe-40ca-f7d4-6b0e8a59cc43"
      },
      "execution_count": null,
      "outputs": [
        {
          "output_type": "stream",
          "name": "stdout",
          "text": [
            "Rajat Sharan\n",
            "Rajat Sharan\n"
          ]
        }
      ]
    },
    {
      "cell_type": "code",
      "source": [
        "str3=\"   Rajat\"\n",
        "print(str3.strip())"
      ],
      "metadata": {
        "colab": {
          "base_uri": "https://localhost:8080/"
        },
        "id": "BpS3-z1eMTV1",
        "outputId": "019550e5-b076-4f58-c950-b11de6f337b7"
      },
      "execution_count": null,
      "outputs": [
        {
          "output_type": "stream",
          "name": "stdout",
          "text": [
            "Rajat\n"
          ]
        }
      ]
    },
    {
      "cell_type": "code",
      "source": [
        "str5=\"Where is rajat\"\n",
        "print(str5.find(\"rajat\"))"
      ],
      "metadata": {
        "colab": {
          "base_uri": "https://localhost:8080/"
        },
        "id": "v6Ek8A4KM0ln",
        "outputId": "57f5b451-580a-4211-d79a-3d185ea2b819"
      },
      "execution_count": null,
      "outputs": [
        {
          "output_type": "stream",
          "name": "stdout",
          "text": [
            "9\n"
          ]
        }
      ]
    },
    {
      "cell_type": "code",
      "source": [
        "str5=\"Where is rajat\"\n",
        "print(str5.find('r',2,10))\n",
        "print(str5.count('r'))"
      ],
      "metadata": {
        "colab": {
          "base_uri": "https://localhost:8080/"
        },
        "id": "icWoa3oKN8iI",
        "outputId": "c7631969-0053-471d-e0ee-b06d1c891aff"
      },
      "execution_count": null,
      "outputs": [
        {
          "output_type": "stream",
          "name": "stdout",
          "text": [
            "3\n",
            "2\n"
          ]
        }
      ]
    },
    {
      "cell_type": "code",
      "source": [
        "str5=\" Where is rajat \"\n",
        "print(str5.count(' '))"
      ],
      "metadata": {
        "colab": {
          "base_uri": "https://localhost:8080/"
        },
        "id": "LzxLMt4CQp3H",
        "outputId": "7862b81c-0b02-411f-d117-f825f6a405fd"
      },
      "execution_count": null,
      "outputs": [
        {
          "output_type": "stream",
          "name": "stdout",
          "text": [
            "4\n"
          ]
        }
      ]
    },
    {
      "cell_type": "code",
      "source": [
        "str6=\" Where is rajat \"\n",
        "str7=str6.replace('rajat','sharan')\n",
        "print(str7)"
      ],
      "metadata": {
        "colab": {
          "base_uri": "https://localhost:8080/"
        },
        "id": "0ndIAZjjQ1KY",
        "outputId": "066652d2-4e82-45b2-938b-1fb4c3076687"
      },
      "execution_count": null,
      "outputs": [
        {
          "output_type": "stream",
          "name": "stdout",
          "text": [
            " Where is sharan \n"
          ]
        }
      ]
    },
    {
      "cell_type": "code",
      "source": [
        "str6=\"Where#is#rajat\"\n",
        "name=str6.split(\"#\")\n",
        "print(name)"
      ],
      "metadata": {
        "colab": {
          "base_uri": "https://localhost:8080/"
        },
        "id": "3Fgni85rSZAv",
        "outputId": "47ea0c3b-e8f4-45ba-8d15-ff1e83477d79"
      },
      "execution_count": null,
      "outputs": [
        {
          "output_type": "stream",
          "name": "stdout",
          "text": [
            "['Where', 'is', 'rajat']\n"
          ]
        }
      ]
    },
    {
      "cell_type": "code",
      "source": [
        "str6=\"Where,is,rajat\"\n",
        "wordsplit=str6.split(\",\")\n",
        "print(wordsplit)"
      ],
      "metadata": {
        "colab": {
          "base_uri": "https://localhost:8080/"
        },
        "id": "BNr-1c3MTYW0",
        "outputId": "05340237-4c28-4178-e5b5-3666b2c20171"
      },
      "execution_count": null,
      "outputs": [
        {
          "output_type": "stream",
          "name": "stdout",
          "text": [
            "['Where', 'is', 'rajat']\n"
          ]
        }
      ]
    },
    {
      "cell_type": "code",
      "source": [
        "tm=['Where','is','rajat']\n",
        "print(':)'.join(tm))"
      ],
      "metadata": {
        "colab": {
          "base_uri": "https://localhost:8080/"
        },
        "id": "oSCCLkdcUiLm",
        "outputId": "1e49bd02-5683-4463-de27-1e0fde6b3768"
      },
      "execution_count": null,
      "outputs": [
        {
          "output_type": "stream",
          "name": "stdout",
          "text": [
            "Where:)is:)rajat\n"
          ]
        }
      ]
    },
    {
      "cell_type": "code",
      "source": [
        "ros=\"RAJat\"\n",
        "print(ros.upper())"
      ],
      "metadata": {
        "colab": {
          "base_uri": "https://localhost:8080/"
        },
        "id": "zKUaV0chVYU6",
        "outputId": "1a647380-1153-4de7-d9df-7f95d355d2de"
      },
      "execution_count": null,
      "outputs": [
        {
          "output_type": "stream",
          "name": "stdout",
          "text": [
            "RAJAT\n"
          ]
        }
      ]
    },
    {
      "cell_type": "code",
      "source": [
        "ros=\"RAJat\"\n",
        "print(ros.lower())"
      ],
      "metadata": {
        "colab": {
          "base_uri": "https://localhost:8080/"
        },
        "id": "XF_m1qf4WMWg",
        "outputId": "988fd301-919f-4466-82cf-52afac0c711a"
      },
      "execution_count": null,
      "outputs": [
        {
          "output_type": "stream",
          "name": "stdout",
          "text": [
            "rajat\n"
          ]
        }
      ]
    },
    {
      "cell_type": "code",
      "source": [
        "ros=\"RAJat\"\n",
        "print(ros.swapcase())"
      ],
      "metadata": {
        "colab": {
          "base_uri": "https://localhost:8080/"
        },
        "id": "wSBJTSbfWTNf",
        "outputId": "c90a6ffa-893a-4d71-c204-931724c83101"
      },
      "execution_count": null,
      "outputs": [
        {
          "output_type": "stream",
          "name": "stdout",
          "text": [
            "rajAT\n"
          ]
        }
      ]
    },
    {
      "cell_type": "code",
      "source": [
        "ros=\"rajat sharan\"\n",
        "print(ros.title())"
      ],
      "metadata": {
        "colab": {
          "base_uri": "https://localhost:8080/"
        },
        "id": "KEZYUKfDWjnq",
        "outputId": "8f9c08e4-81e4-428e-8789-fc59ec1fe345"
      },
      "execution_count": null,
      "outputs": [
        {
          "output_type": "stream",
          "name": "stdout",
          "text": [
            "Rajat Sharan\n"
          ]
        }
      ]
    },
    {
      "cell_type": "code",
      "source": [
        "ros=\"rajat sharan is great guy\"\n",
        "print(ros.capitalize())"
      ],
      "metadata": {
        "colab": {
          "base_uri": "https://localhost:8080/"
        },
        "id": "EogZMGFtW7av",
        "outputId": "342a0e11-adc4-48af-d73c-16b192cf294f"
      },
      "execution_count": null,
      "outputs": [
        {
          "output_type": "stream",
          "name": "stdout",
          "text": [
            "Rajat sharan is great guy\n"
          ]
        }
      ]
    },
    {
      "cell_type": "code",
      "source": [
        "from posixpath import join\n",
        "date='10-12-2023'\n",
        "print(date.replace(\"-\",\"/\"))\n"
      ],
      "metadata": {
        "colab": {
          "base_uri": "https://localhost:8080/"
        },
        "id": "KaePgbyvoPw0",
        "outputId": "f4be4aa3-79e1-43e3-ab78-39fe77fc9b98"
      },
      "execution_count": null,
      "outputs": [
        {
          "output_type": "stream",
          "name": "stdout",
          "text": [
            "10/12/2023\n"
          ]
        }
      ]
    },
    {
      "cell_type": "code",
      "source": [
        "# Find Date and month\n",
        "ldate='10-12-24'\n",
        "newdate=ldate.split(\"-\")\n",
        "day=newdate[0]\n",
        "month=newdate[1]\n",
        "print(day)\n",
        "print(month)"
      ],
      "metadata": {
        "colab": {
          "base_uri": "https://localhost:8080/"
        },
        "id": "yifKPioDq186",
        "outputId": "d2b18b93-4182-497a-bd6e-b5c4776d07ba"
      },
      "execution_count": null,
      "outputs": [
        {
          "output_type": "stream",
          "name": "stdout",
          "text": [
            "10\n",
            "12\n"
          ]
        }
      ]
    },
    {
      "cell_type": "code",
      "source": [
        "salary=122383\n",
        "print(\"My salary {:016d}\".format(salary))"
      ],
      "metadata": {
        "colab": {
          "base_uri": "https://localhost:8080/"
        },
        "id": "nE4yKSrLtjXe",
        "outputId": "aeb83e88-5c70-44e2-f785-8342bf802470"
      },
      "execution_count": null,
      "outputs": [
        {
          "output_type": "stream",
          "name": "stdout",
          "text": [
            "My salary 0000000000122383\n"
          ]
        }
      ]
    },
    {
      "cell_type": "code",
      "source": [
        "balance=129.233\n",
        "print(\"My balance {:f}\".format(balance))\n",
        "print(\"My balance {:4.2f}\".format(balance))"
      ],
      "metadata": {
        "colab": {
          "base_uri": "https://localhost:8080/"
        },
        "id": "-Hy1Zk6awJwX",
        "outputId": "2bfd8f8f-3649-4c39-ac38-bdd18e925050"
      },
      "execution_count": null,
      "outputs": [
        {
          "output_type": "stream",
          "name": "stdout",
          "text": [
            "My balance 129.233000\n",
            "My balance 129.23\n"
          ]
        }
      ]
    },
    {
      "cell_type": "code",
      "source": [
        "print(\"my balance {:>5d}\".format(13))"
      ],
      "metadata": {
        "colab": {
          "base_uri": "https://localhost:8080/"
        },
        "id": "rdLF_tX0yCVD",
        "outputId": "3bb619a7-b4a4-437c-c1a9-02ed2d74ea65"
      },
      "execution_count": null,
      "outputs": [
        {
          "output_type": "stream",
          "name": "stdout",
          "text": [
            "my balance    13\n"
          ]
        }
      ]
    },
    {
      "cell_type": "code",
      "source": [
        "print(\"my balance {:<5d}\".format(13))"
      ],
      "metadata": {
        "colab": {
          "base_uri": "https://localhost:8080/"
        },
        "id": "hZlOYjw0ySZ0",
        "outputId": "6f9e72c4-8dcc-44d0-a22a-11a3774abcdb"
      },
      "execution_count": null,
      "outputs": [
        {
          "output_type": "stream",
          "name": "stdout",
          "text": [
            "my balance 13   \n"
          ]
        }
      ]
    },
    {
      "cell_type": "code",
      "source": [
        "print(\"my balance {:^5d}\".format(13))"
      ],
      "metadata": {
        "colab": {
          "base_uri": "https://localhost:8080/"
        },
        "id": "YdvMCJaWyh80",
        "outputId": "ab75f9a5-f7cd-4915-809c-5d8a785ec1c1"
      },
      "execution_count": null,
      "outputs": [
        {
          "output_type": "stream",
          "name": "stdout",
          "text": [
            "my balance  13  \n"
          ]
        }
      ]
    },
    {
      "cell_type": "code",
      "source": [
        "import datetime as dt\n",
        "date=dt.datetime.now()\n",
        "print(date)"
      ],
      "metadata": {
        "colab": {
          "base_uri": "https://localhost:8080/"
        },
        "id": "27vpONrtywAU",
        "outputId": "3ab2fe17-b64b-4c00-b1e8-9ac72fb94b36"
      },
      "execution_count": null,
      "outputs": [
        {
          "output_type": "stream",
          "name": "stdout",
          "text": [
            "2024-01-06 12:45:58.151332\n"
          ]
        }
      ]
    },
    {
      "cell_type": "code",
      "source": [
        "print(\"The currect date time is {:}\".format(date))\n",
        "print(\"The currect date time is {:%d/%m/%y %H:%M:%S}\".format(date))\n",
        "print(\"The currect date time is {:%m}\".format(date))"
      ],
      "metadata": {
        "colab": {
          "base_uri": "https://localhost:8080/"
        },
        "id": "rASlL6d6zL7X",
        "outputId": "f0d03b23-e157-4abd-9570-b2ac3fcb18ec"
      },
      "execution_count": null,
      "outputs": [
        {
          "output_type": "stream",
          "name": "stdout",
          "text": [
            "The currect date time is 2024-01-06 12:45:58.151332\n",
            "The currect date time is 06/01/24 12:45:58\n",
            "The currect date time is 01\n"
          ]
        }
      ]
    },
    {
      "cell_type": "code",
      "source": [
        "print('The numbers are {:d} and {:f}'.format(2, 10))"
      ],
      "metadata": {
        "colab": {
          "base_uri": "https://localhost:8080/"
        },
        "id": "Dd9ci0PN0-dL",
        "outputId": "576cc423-9ec0-4eeb-9f36-41a3396a47de"
      },
      "execution_count": null,
      "outputs": [
        {
          "output_type": "stream",
          "name": "stdout",
          "text": [
            "The numbers are 2 and 10.000000\n"
          ]
        }
      ]
    },
    {
      "cell_type": "code",
      "source": [
        "print(\"The value is : {:.0%}\".format(0.80))"
      ],
      "metadata": {
        "colab": {
          "base_uri": "https://localhost:8080/"
        },
        "id": "VitHm0_q1Fhu",
        "outputId": "4b5efd52-fc93-4336-e77f-d61d71c37f2f"
      },
      "execution_count": null,
      "outputs": [
        {
          "output_type": "stream",
          "name": "stdout",
          "text": [
            "The value is : 80%\n"
          ]
        }
      ]
    },
    {
      "cell_type": "code",
      "source": [
        "#Functions\n",
        "def Happy():\n",
        "    print(\"Happy Birthday to you!\")"
      ],
      "metadata": {
        "id": "8AlgcFxtWjzb"
      },
      "execution_count": null,
      "outputs": []
    },
    {
      "cell_type": "code",
      "source": [
        "Happy()"
      ],
      "metadata": {
        "colab": {
          "base_uri": "https://localhost:8080/"
        },
        "id": "Uduv_0r0XAH8",
        "outputId": "86ba3573-b0b0-422a-8aff-8d9b9aa55ffb"
      },
      "execution_count": null,
      "outputs": [
        {
          "output_type": "stream",
          "name": "stdout",
          "text": [
            "Happy Birthday to you!\n"
          ]
        }
      ]
    },
    {
      "cell_type": "code",
      "source": [
        "def sum(a,b):\n",
        "    return a+b\n",
        "\n",
        "c=sum(10,20)\n",
        "print(c)"
      ],
      "metadata": {
        "colab": {
          "base_uri": "https://localhost:8080/"
        },
        "id": "4P_z4Ah3ZBuI",
        "outputId": "b2ab8abe-b666-4533-9485-34685ef8768e"
      },
      "execution_count": null,
      "outputs": [
        {
          "output_type": "stream",
          "name": "stdout",
          "text": [
            "30\n"
          ]
        }
      ]
    },
    {
      "cell_type": "code",
      "source": [
        "def swap(a,b):\n",
        "    return(b,a)\n",
        "\n",
        "\n",
        "swap(10,20)\n"
      ],
      "metadata": {
        "colab": {
          "base_uri": "https://localhost:8080/"
        },
        "id": "1gfHXIqEasDi",
        "outputId": "57af98d0-f44d-4add-ef0f-92242223711e"
      },
      "execution_count": null,
      "outputs": [
        {
          "output_type": "execute_result",
          "data": {
            "text/plain": [
              "(20, 10)"
            ]
          },
          "metadata": {},
          "execution_count": 11
        }
      ]
    },
    {
      "cell_type": "code",
      "source": [
        "len.__doc__"
      ],
      "metadata": {
        "colab": {
          "base_uri": "https://localhost:8080/",
          "height": 35
        },
        "id": "NKbC7XO2VA2-",
        "outputId": "d9b224b6-66ae-4069-f2aa-8a08b6bb6b05"
      },
      "execution_count": null,
      "outputs": [
        {
          "output_type": "execute_result",
          "data": {
            "text/plain": [
              "'Return the number of items in a container.'"
            ],
            "application/vnd.google.colaboratory.intrinsic+json": {
              "type": "string"
            }
          },
          "metadata": {},
          "execution_count": 3
        }
      ]
    },
    {
      "cell_type": "code",
      "source": [
        "def Happy():\n",
        "  \"\"\" This is the description of the method \"\"\"\n",
        "  print(\"Hello world\")\n",
        "\n",
        "Happy()"
      ],
      "metadata": {
        "colab": {
          "base_uri": "https://localhost:8080/"
        },
        "id": "7tKuO8TrWKJT",
        "outputId": "8d02a604-c4b4-45a3-e167-849a6eb3ba64"
      },
      "execution_count": null,
      "outputs": [
        {
          "output_type": "stream",
          "name": "stdout",
          "text": [
            "Hello world\n"
          ]
        }
      ]
    },
    {
      "cell_type": "code",
      "source": [
        "Happy.__doc__"
      ],
      "metadata": {
        "colab": {
          "base_uri": "https://localhost:8080/",
          "height": 35
        },
        "id": "XIl0ksxvWZzy",
        "outputId": "7e62266d-a157-4f94-c077-fb736b9b2ae2"
      },
      "execution_count": null,
      "outputs": [
        {
          "output_type": "execute_result",
          "data": {
            "text/plain": [
              "' This is the description of the method '"
            ],
            "application/vnd.google.colaboratory.intrinsic+json": {
              "type": "string"
            }
          },
          "metadata": {},
          "execution_count": 6
        }
      ]
    },
    {
      "cell_type": "code",
      "source": [
        "def Square(x):\n",
        "  return x*x\n",
        "\n",
        "print(Square(4))"
      ],
      "metadata": {
        "colab": {
          "base_uri": "https://localhost:8080/"
        },
        "id": "yINXBCOnXPvv",
        "outputId": "383e3516-8379-4955-aa6e-4765b5469850"
      },
      "execution_count": null,
      "outputs": [
        {
          "output_type": "stream",
          "name": "stdout",
          "text": [
            "16\n"
          ]
        }
      ]
    },
    {
      "cell_type": "code",
      "source": [
        "Square(16)"
      ],
      "metadata": {
        "colab": {
          "base_uri": "https://localhost:8080/"
        },
        "id": "fGa_bfLMXs9B",
        "outputId": "41b1cc06-1f47-41a6-a100-958a59be0901"
      },
      "execution_count": null,
      "outputs": [
        {
          "output_type": "execute_result",
          "data": {
            "text/plain": [
              "256"
            ]
          },
          "metadata": {},
          "execution_count": 9
        }
      ]
    },
    {
      "cell_type": "code",
      "source": [
        "def AddSub(a,b):\n",
        "  return (a+b),(a-b)\n",
        "\n",
        "AddSub(20,10)\n",
        "AddSub(50,10)"
      ],
      "metadata": {
        "colab": {
          "base_uri": "https://localhost:8080/"
        },
        "id": "6J6Fp_G_X1tp",
        "outputId": "fd7640dd-1c35-4e83-b5f5-565db6eff47f"
      },
      "execution_count": null,
      "outputs": [
        {
          "output_type": "execute_result",
          "data": {
            "text/plain": [
              "(60, 40)"
            ]
          },
          "metadata": {},
          "execution_count": 15
        }
      ]
    },
    {
      "cell_type": "code",
      "source": [
        "def ChangeNumber(a):\n",
        "  a[2]=20\n",
        "\n",
        "lst=[10,20,30,40,50]\n",
        "print(lst)\n",
        "ChangeNumber(lst)\n",
        "print(lst)"
      ],
      "metadata": {
        "colab": {
          "base_uri": "https://localhost:8080/"
        },
        "id": "3GGmerSEa6WE",
        "outputId": "031c20f2-47aa-4a8c-e5a2-0e911bfc19c7"
      },
      "execution_count": null,
      "outputs": [
        {
          "output_type": "stream",
          "name": "stdout",
          "text": [
            "[10, 20, 30, 40, 50]\n",
            "[10, 20, 20, 40, 50]\n"
          ]
        }
      ]
    },
    {
      "cell_type": "code",
      "source": [
        "def ChangeNumber(a):\n",
        "   a=10\n",
        "\n",
        "l=20\n",
        "print(l)\n",
        "ChangeNumber(l)\n",
        "print(l)"
      ],
      "metadata": {
        "colab": {
          "base_uri": "https://localhost:8080/"
        },
        "id": "EkZbXvRGb7wK",
        "outputId": "558c0d0b-5bc7-4171-91d3-63e319e5ebfc"
      },
      "execution_count": null,
      "outputs": [
        {
          "output_type": "stream",
          "name": "stdout",
          "text": [
            "20\n",
            "20\n"
          ]
        }
      ]
    },
    {
      "cell_type": "code",
      "source": [
        "def sum(a,b,c,d):\n",
        "   d=a+b+c+d\n",
        "   return (d)\n",
        "\n",
        "sum(10,20,30,20)"
      ],
      "metadata": {
        "colab": {
          "base_uri": "https://localhost:8080/"
        },
        "id": "zCrK2rx2gZNO",
        "outputId": "f409f1d8-99e9-4975-fcf0-a66d1593671a"
      },
      "execution_count": null,
      "outputs": [
        {
          "output_type": "execute_result",
          "data": {
            "text/plain": [
              "80"
            ]
          },
          "metadata": {},
          "execution_count": 24
        }
      ]
    },
    {
      "cell_type": "code",
      "source": [
        "#variable lenght parameter\n",
        "\n",
        "def sum(*numbers):\n",
        "    sum=0\n",
        "    for n in numbers:\n",
        "      sum=sum+n\n",
        "    return sum\n",
        "\n",
        "sum(10,20)"
      ],
      "metadata": {
        "colab": {
          "base_uri": "https://localhost:8080/"
        },
        "id": "qcn7BdLChP7p",
        "outputId": "7f598066-0bb1-4bab-e391-6b15fb6570f2"
      },
      "execution_count": null,
      "outputs": [
        {
          "output_type": "execute_result",
          "data": {
            "text/plain": [
              "30"
            ]
          },
          "metadata": {},
          "execution_count": 26
        }
      ]
    },
    {
      "cell_type": "code",
      "source": [
        "#Lambda Function\n",
        "def sum(a,b):\n",
        "    return a+b\n"
      ],
      "metadata": {
        "id": "jjJKuJ6piE-K"
      },
      "execution_count": null,
      "outputs": []
    },
    {
      "cell_type": "code",
      "source": [
        "p=lambda a,b:a+b\n",
        "\n",
        "p(20,30)"
      ],
      "metadata": {
        "colab": {
          "base_uri": "https://localhost:8080/"
        },
        "id": "4vkE1QO5iSj5",
        "outputId": "21060c5e-266c-4d61-ee3e-a5ee006cceab"
      },
      "execution_count": null,
      "outputs": [
        {
          "output_type": "execute_result",
          "data": {
            "text/plain": [
              "50"
            ]
          },
          "metadata": {},
          "execution_count": 27
        }
      ]
    },
    {
      "cell_type": "code",
      "source": [
        "sum=lambda a,b,c:a+b+c\n",
        "\n",
        "sum(20,30,40)"
      ],
      "metadata": {
        "colab": {
          "base_uri": "https://localhost:8080/"
        },
        "id": "t4TrhDa_isqr",
        "outputId": "1f96edbe-2755-475a-8318-0a21519be10d"
      },
      "execution_count": null,
      "outputs": [
        {
          "output_type": "execute_result",
          "data": {
            "text/plain": [
              "90"
            ]
          },
          "metadata": {},
          "execution_count": 28
        }
      ]
    },
    {
      "cell_type": "code",
      "source": [
        "def sum(a,b):\n",
        "    global x\n",
        "    x=a+b\n",
        "    return x\n",
        "x=0\n",
        "sum(20,30)\n",
        "print(x)"
      ],
      "metadata": {
        "colab": {
          "base_uri": "https://localhost:8080/"
        },
        "id": "nD01ptz4j4IK",
        "outputId": "c3e9853b-03d4-44de-9941-0bef5e204b27"
      },
      "execution_count": null,
      "outputs": [
        {
          "output_type": "stream",
          "name": "stdout",
          "text": [
            "50\n"
          ]
        }
      ]
    },
    {
      "cell_type": "code",
      "source": [
        "def add(a,b):\n",
        "  return a+b\n",
        "\n",
        "\n",
        "a=[10,20,30,40]\n",
        "b=[20,30,50,50]\n",
        "\n",
        "print(*map(add,a,b))"
      ],
      "metadata": {
        "colab": {
          "base_uri": "https://localhost:8080/"
        },
        "id": "J17CPARPk93f",
        "outputId": "7096c740-f243-4d00-f14a-264a0b11604c"
      },
      "execution_count": null,
      "outputs": [
        {
          "output_type": "stream",
          "name": "stdout",
          "text": [
            "30 50 80 90\n"
          ]
        }
      ]
    }
  ]
}